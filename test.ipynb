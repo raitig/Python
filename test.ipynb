{
 "cells": [
  {
   "cell_type": "code",
   "execution_count": 19,
   "metadata": {},
   "outputs": [
    {
     "name": "stdout",
     "output_type": "stream",
     "text": [
      "hello\n"
     ]
    }
   ],
   "source": [
    "print(\"hello\")"
   ]
  },
  {
   "cell_type": "code",
   "execution_count": 20,
   "metadata": {},
   "outputs": [
    {
     "name": "stdout",
     "output_type": "stream",
     "text": [
      "((1, 2, 3, 4, 5, 6),)\n"
     ]
    }
   ],
   "source": [
    "#variable lenght argument\n",
    "def display(*args):\n",
    "    print(args)\n",
    "t=(1,2,3,4,5,6)\n",
    "display(t)"
   ]
  },
  {
   "cell_type": "code",
   "execution_count": 21,
   "metadata": {},
   "outputs": [
    {
     "name": "stdout",
     "output_type": "stream",
     "text": [
      "x: 1\n",
      "y: 2\n",
      "Extra argument: 3\n",
      "Extra argument: 4\n",
      "Extra argument: 5\n",
      "Extra argument: 6\n",
      "Extra argument: 7\n",
      "Extra argument: 8\n"
     ]
    }
   ],
   "source": [
    "# write a program to print the veriable lenght argument of a function \n",
    "def another_function(x,y,*args):\n",
    "    print(\"x:\",x)\n",
    "    print(\"y:\",y)\n",
    "    for arg in args:\n",
    "        print(\"Extra argument:\",arg)\n",
    "another_function(1,2,3,4,5,6,7,8)\n",
    "    "
   ]
  },
  {
   "cell_type": "code",
   "execution_count": 22,
   "metadata": {},
   "outputs": [
    {
     "name": "stdout",
     "output_type": "stream",
     "text": [
      "sum_pos(-1,2,3,4,-4,5,6,9,-9,7)= 36\n"
     ]
    }
   ],
   "source": [
    "#write a program that accepct different number of arguments and return the sum only positive number \n",
    "def sum_pos(*args):\n",
    "    tot=0\n",
    "    for i in args:\n",
    "        if i > 0:\n",
    "            tot +=i\n",
    "    return tot \n",
    "print(\"sum_pos(-1,2,3,4,-4,5,6,9,-9,7)=\",sum_pos(-1,2,3,4,-4,5,6,9,-9,7))"
   ]
  },
  {
   "cell_type": "code",
   "execution_count": 23,
   "metadata": {},
   "outputs": [
    {
     "name": "stdout",
     "output_type": "stream",
     "text": [
      "value1= 10 value2= 30\n",
      "value1 = 30 value2 = 10\n"
     ]
    }
   ],
   "source": [
    "# swapping the value with the tuple \n",
    "val1=10\n",
    "val2=30\n",
    "print(\"value1=\",val1,\"value2=\",val2)\n",
    "(val1,val2)=(val2,val1)\n",
    "print(\"value1 =\",val1,\"value2 =\",val2)"
   ]
  },
  {
   "cell_type": "code",
   "execution_count": 24,
   "metadata": {},
   "outputs": [
    {
     "name": "stdout",
     "output_type": "stream",
     "text": [
      "{'Debajit': 240, 'Bijoy': 200, 'suprotik': 236, 'Raitig': 284}\n",
      "Topper is : Raitig with marks = 284\n"
     ]
    }
   ],
   "source": [
    "#write a program that has a dictionary of names of student ans list of their marks in the 4 student \n",
    "# find the student who has the highest marks.\n",
    "marks={'Debajit':[70,80,90],'Bijoy':[90,62,48],'suprotik':[62,85,89],'Raitig':[90,95,99]}\n",
    "tot=0\n",
    "tot_marks=marks.copy()\n",
    "for key,val in marks.items():\n",
    "    tot=sum(val)\n",
    "    tot_marks[key]=tot\n",
    "print(tot_marks)\n",
    "max=0\n",
    "topper=' '\n",
    "for key,val in tot_marks.items():\n",
    "    if val > max:\n",
    "        max = val \n",
    "        topper = key \n",
    "print(\"Topper is :\",topper,\"with marks =\",max)"
   ]
  },
  {
   "cell_type": "code",
   "execution_count": 25,
   "metadata": {},
   "outputs": [
    {
     "name": "stdout",
     "output_type": "stream",
     "text": [
      "{'h': 1, 'e': 7, 'l': 3, 'o': 3, ' ': 5, 'd': 2, 'a': 4, 'r': 4, 's': 2, 't': 4, 'u': 2, 'n': 3, ',': 1, 'w': 2, 'c': 1, 'm': 1, 'b': 1, 'i': 3, 'v': 1, 'y': 1, '.': 3}\n",
      "h \t *\n",
      "e \t *******\n",
      "l \t ***\n",
      "o \t ***\n",
      "  \t *****\n",
      "d \t **\n",
      "a \t ****\n",
      "r \t ****\n",
      "s \t **\n",
      "t \t ****\n",
      "u \t **\n",
      "n \t ***\n",
      ", \t *\n",
      "w \t **\n",
      "c \t *\n",
      "m \t *\n",
      "b \t *\n",
      "i \t ***\n",
      "v \t *\n",
      "y \t *\n",
      ". \t ***\n"
     ]
    }
   ],
   "source": [
    "# write a program that prints a histogram of frequencies of character occuring in a message.\n",
    "message='Hello dear student,wealcome to brainware university...'\n",
    "message=message.lower()\n",
    "d=dict()\n",
    "for w in message:\n",
    "    if w not in d :\n",
    "        d[w]=1\n",
    "    else:\n",
    "        d[w]=d[w]+1\n",
    "print(d)\n",
    "for key,val in d.items():\n",
    "    print(key,'\\t','*'*val)"
   ]
  },
  {
   "cell_type": "code",
   "execution_count": 26,
   "metadata": {},
   "outputs": [
    {
     "name": "stdout",
     "output_type": "stream",
     "text": [
      "Dictionary: {'Roll No': '10024', 'Name': 'Deva', 'Course': 'Btech'}\n",
      "inverted dictionary : {'10024': 'Roll No', 'Deva': 'Name', 'Btech': 'Course'}\n"
     ]
    }
   ],
   "source": [
    "# Write a program that inverts a dictionary (key becomes value becomes key)\n",
    "d={'Roll No':'10024','Name':'Deva','Course':'Btech'}\n",
    "inverted={}\n",
    "for key,val in d.items():\n",
    "    inverted[val]=key\n",
    "print('Dictionary:',d)\n",
    "print('inverted dictionary :',inverted)\n",
    " "
   ]
  },
  {
   "cell_type": "code",
   "execution_count": 27,
   "metadata": {},
   "outputs": [
    {
     "name": "stdout",
     "output_type": "stream",
     "text": [
      "hello, Brainware university !\n",
      "o\n",
      ",\n",
      "B\n"
     ]
    }
   ],
   "source": [
    "string=\"hello, Brainware university !\"\n",
    "print(string)\n",
    "print(string[4])\n",
    "print(string[5])\n",
    "print(string[7])"
   ]
  },
  {
   "cell_type": "code",
   "execution_count": 28,
   "metadata": {},
   "outputs": [
    {
     "name": "stdout",
     "output_type": "stream",
     "text": [
      "b\n",
      "r\n",
      "a\n",
      "i\n",
      "n\n",
      "w\n",
      "a\n",
      "r\n",
      "e\n",
      "21\n"
     ]
    }
   ],
   "source": [
    "for x in \"brainware\":\n",
    "    print(x)\n",
    "s=\"Brainware university!\"\n",
    "print(len(s))"
   ]
  },
  {
   "cell_type": "code",
   "execution_count": 29,
   "metadata": {},
   "outputs": [
    {
     "name": "stdout",
     "output_type": "stream",
     "text": [
      "Hello, Rrainware university!\n"
     ]
    }
   ],
   "source": [
    "string=\"Hello, Brainware university!\"\n",
    "print(string.replace(\"B\",\"R\"))"
   ]
  },
  {
   "cell_type": "code",
   "execution_count": 30,
   "metadata": {},
   "outputs": [
    {
     "name": "stdout",
     "output_type": "stream",
     "text": [
      "Hello,Brainware univrsity!\n"
     ]
    }
   ],
   "source": [
    "string=\"Hello,Brainware univrsity!\"\n",
    "print(string.strip())"
   ]
  },
  {
   "cell_type": "code",
   "execution_count": 31,
   "metadata": {},
   "outputs": [
    {
     "name": "stdout",
     "output_type": "stream",
     "text": [
      "Brainware university is currently located in the Barasat.\n"
     ]
    }
   ],
   "source": [
    "string=\"university                \"\n",
    "x=string.rstrip()\n",
    "print(\"Brainware\",x,\"is currently located in the Barasat.\")"
   ]
  },
  {
   "cell_type": "code",
   "execution_count": 32,
   "metadata": {},
   "outputs": [
    {
     "name": "stdout",
     "output_type": "stream",
     "text": [
      "Hello, Brainware university !\n"
     ]
    }
   ],
   "source": [
    "string =\"Hello, Brainware university !,eeeeeeee\"\n",
    "x=string.rstrip(\",eeeeeeeeee\")\n",
    "print(x)"
   ]
  },
  {
   "cell_type": "code",
   "execution_count": 33,
   "metadata": {},
   "outputs": [
    {
     "name": "stdout",
     "output_type": "stream",
     "text": [
      "Hello, Brainware university !,eeeeeeee\n"
     ]
    }
   ],
   "source": [
    "String =\"&@?._-#ee,Hello,Brainware university!,\"\n",
    "x = string.lstrip(\",&@?._-#ee\")\n",
    "print(x)"
   ]
  },
  {
   "cell_type": "code",
   "execution_count": 34,
   "metadata": {},
   "outputs": [
    {
     "name": "stdout",
     "output_type": "stream",
     "text": [
      "['Hello', ' Brainware', 'university!']\n"
     ]
    }
   ],
   "source": [
    "string = \"Hello, Brainware,university!\"\n",
    "print(string.split(\",\"))"
   ]
  },
  {
   "cell_type": "code",
   "execution_count": 35,
   "metadata": {},
   "outputs": [
    {
     "name": "stdout",
     "output_type": "stream",
     "text": [
      "['Hello', 'Brainware', 'university!']\n"
     ]
    }
   ],
   "source": [
    "string =\"Hello Brainware university!\"\n",
    "print(string.split(\" \"))"
   ]
  },
  {
   "cell_type": "code",
   "execution_count": 36,
   "metadata": {},
   "outputs": [
    {
     "name": "stdout",
     "output_type": "stream",
     "text": [
      "['Hello Brainware', 'university!']\n"
     ]
    }
   ],
   "source": [
    "string = \"Hello Brainware,university!\"\n",
    "x = string.rsplit(\",\",1)\n",
    "print(x)"
   ]
  },
  {
   "cell_type": "code",
   "execution_count": 37,
   "metadata": {},
   "outputs": [
    {
     "name": "stdout",
     "output_type": "stream",
     "text": [
      "['Hello Brainware', ' university!']\n"
     ]
    }
   ],
   "source": [
    "string =\"Hello Brainware\\n university!\"\n",
    "x = string.splitlines()\n",
    "print(x)"
   ]
  },
  {
   "cell_type": "code",
   "execution_count": 38,
   "metadata": {},
   "outputs": [
    {
     "name": "stdout",
     "output_type": "stream",
     "text": [
      " HELLO BRAINWARE UNIVERSITY!\n"
     ]
    }
   ],
   "source": [
    "string = \" Hello Brainware university!\"\n",
    "print(string.upper())"
   ]
  },
  {
   "cell_type": "code",
   "execution_count": 39,
   "metadata": {},
   "outputs": [
    {
     "name": "stdout",
     "output_type": "stream",
     "text": [
      "hello brainware university!\n"
     ]
    }
   ],
   "source": [
    "string = \"Hello Brainware university!\"\n",
    "print(string.lower())"
   ]
  },
  {
   "cell_type": "code",
   "execution_count": 40,
   "metadata": {},
   "outputs": [
    {
     "name": "stdout",
     "output_type": "stream",
     "text": [
      "Brainware university!\n"
     ]
    }
   ],
   "source": [
    "new_string=\"brainware university!\"\n",
    "x = new_string.capitalize()\n",
    "print(x)"
   ]
  },
  {
   "cell_type": "code",
   "execution_count": 41,
   "metadata": {},
   "outputs": [
    {
     "name": "stdout",
     "output_type": "stream",
     "text": [
      "brainware university!\n"
     ]
    }
   ],
   "source": [
    "new_string=\"Brainware university!\"\n",
    "x = new_string.casefold()\n",
    "print(x)"
   ]
  },
  {
   "cell_type": "code",
   "execution_count": 42,
   "metadata": {},
   "outputs": [
    {
     "name": "stdout",
     "output_type": "stream",
     "text": [
      "hELLO bRAINWARE UNIVERSITY!\n"
     ]
    }
   ],
   "source": [
    "new_string =\"Brainware University!\"\n",
    "x = string.swapcase()\n",
    "print(x)"
   ]
  },
  {
   "cell_type": "code",
   "execution_count": 43,
   "metadata": {},
   "outputs": [
    {
     "name": "stdout",
     "output_type": "stream",
     "text": [
      "8\n"
     ]
    }
   ],
   "source": [
    "new_string=\"brainware university !\"\n",
    "x = new_string.find(\"e\",3,10)\n",
    "print(x)"
   ]
  },
  {
   "cell_type": "code",
   "execution_count": 44,
   "metadata": {},
   "outputs": [
    {
     "name": "stdout",
     "output_type": "stream",
     "text": [
      "3\n"
     ]
    }
   ],
   "source": [
    "new_string=\"brainware university !\"\n",
    "x = new_string.rfind(\"i\",3,10)\n",
    "print(x)"
   ]
  },
  {
   "cell_type": "code",
   "execution_count": 45,
   "metadata": {},
   "outputs": [
    {
     "name": "stdout",
     "output_type": "stream",
     "text": [
      "10\n"
     ]
    }
   ],
   "source": [
    "new_string=\"brainware university !\"\n",
    "x = new_string.index(\"u\")\n",
    "print(x)"
   ]
  },
  {
   "cell_type": "code",
   "execution_count": 46,
   "metadata": {},
   "outputs": [
    {
     "name": "stdout",
     "output_type": "stream",
     "text": [
      "14\n"
     ]
    }
   ],
   "source": [
    "new_string=\"brainware university !\"\n",
    "x = new_string.rindex(\"e\")\n",
    "print(x)"
   ]
  },
  {
   "cell_type": "code",
   "execution_count": 47,
   "metadata": {},
   "outputs": [
    {
     "name": "stdout",
     "output_type": "stream",
     "text": [
      "1\n"
     ]
    }
   ],
   "source": [
    "new_string=\"Brain\" \"ware\" \"university !\"\n",
    "x = new_string.count(\"ware\")\n",
    "print(x)"
   ]
  },
  {
   "cell_type": "code",
   "execution_count": 48,
   "metadata": {},
   "outputs": [
    {
     "name": "stdout",
     "output_type": "stream",
     "text": [
      "Brainware university !\n"
     ]
    }
   ],
   "source": [
    "new_string=\"Brainware university !\"\n",
    "x = new_string.center(20)\n",
    "print(x)"
   ]
  },
  {
   "cell_type": "code",
   "execution_count": 49,
   "metadata": {},
   "outputs": [
    {
     "name": "stdout",
     "output_type": "stream",
     "text": [
      "Hello Brainware university!\n"
     ]
    }
   ],
   "source": [
    "s = \"Hello\"\n",
    "t= \" Brainware university!\"\n",
    "r =s + t\n",
    "print(r)\n"
   ]
  },
  {
   "cell_type": "code",
   "execution_count": 50,
   "metadata": {},
   "outputs": [
    {
     "name": "stdout",
     "output_type": "stream",
     "text": [
      "Every team has 11 players, with 2 captain in the game !\n"
     ]
    }
   ],
   "source": [
    "players = 11\n",
    "captain = 2\n",
    "game = \"Every team has {} players, with {} captain in the game !\"\n",
    "print(game.format(players,captain))"
   ]
  },
  {
   "cell_type": "code",
   "execution_count": 51,
   "metadata": {},
   "outputs": [
    {
     "name": "stdout",
     "output_type": "stream",
     "text": [
      "Every team has 2 captain , with 11 players in the game with 5teams !\n"
     ]
    }
   ],
   "source": [
    "players = 11\n",
    "captain = 2\n",
    "team = 5\n",
    "game = \"Every team has {1} captain , with {0} players in the game with {2}teams !\"\n",
    "print(game.format(players,captain,team))"
   ]
  },
  {
   "cell_type": "code",
   "execution_count": 52,
   "metadata": {},
   "outputs": [
    {
     "name": "stdout",
     "output_type": "stream",
     "text": [
      "Brain-ware-universuty\n"
     ]
    }
   ],
   "source": [
    "t = (\"Brain\" , \"ware\" , \"universuty\")\n",
    "x=\"-\".join(t)\n",
    "print(x)"
   ]
  },
  {
   "cell_type": "code",
   "execution_count": 53,
   "metadata": {},
   "outputs": [
    {
     "name": "stdout",
     "output_type": "stream",
     "text": [
      "Name Type location\n"
     ]
    }
   ],
   "source": [
    "d ={ \"Name\": \"Brainware\", \"Type\": \"university\",\"location\":\"Barasat\"}\n",
    "s=\" \"\n",
    "x=s.join(d)\n",
    "print(x)"
   ]
  },
  {
   "cell_type": "code",
   "execution_count": 54,
   "metadata": {},
   "outputs": [
    {
     "name": "stdout",
     "output_type": "stream",
     "text": [
      "('This is Brainware ', 'university', ' currently located in the barasat')\n"
     ]
    }
   ],
   "source": [
    "s=\"This is Brainware university currently located in the barasat\"\n",
    "x = s.partition(\"university\")\n",
    "print(x)"
   ]
  },
  {
   "cell_type": "code",
   "execution_count": 55,
   "metadata": {},
   "outputs": [
    {
     "name": "stdout",
     "output_type": "stream",
     "text": [
      "Brainwareuniversity                      is currently located in barasat \n"
     ]
    }
   ],
   "source": [
    "s=\"Brainwareuniversity\"\n",
    "x = s.ljust(40)\n",
    "print(x,\"is currently located in barasat \")"
   ]
  },
  {
   "cell_type": "code",
   "execution_count": 56,
   "metadata": {},
   "outputs": [
    {
     "name": "stdout",
     "output_type": "stream",
     "text": [
      "                     Brainwareuniversity is currently located in barasat \n"
     ]
    }
   ],
   "source": [
    "s=\"Brainwareuniversity\"\n",
    "x = s.rjust(40)\n",
    "print(x,\"is currently located in barasat \")"
   ]
  },
  {
   "cell_type": "code",
   "execution_count": 57,
   "metadata": {},
   "outputs": [
    {
     "name": "stdout",
     "output_type": "stream",
     "text": [
      "10\n"
     ]
    }
   ],
   "source": [
    "total = 0\n",
    "for i in range(1,5):\n",
    "    total +=i\n",
    "print(total)"
   ]
  },
  {
   "cell_type": "code",
   "execution_count": 58,
   "metadata": {},
   "outputs": [
    {
     "name": "stdout",
     "output_type": "stream",
     "text": [
      "['sql', 'dbms', 'spark', 'aws']\n"
     ]
    }
   ],
   "source": [
    "list = ['sql','dbms','aws']\n",
    "list.insert(2,'spark')\n",
    "print(list)"
   ]
  },
  {
   "cell_type": "code",
   "execution_count": 59,
   "metadata": {},
   "outputs": [
    {
     "name": "stdout",
     "output_type": "stream",
     "text": [
      "E0u0d0l0q0z0d0u0h0"
     ]
    }
   ],
   "source": [
    "#write a program that encrypts a message.Adding a key value (k=3) to every character(ceaser-cipher)\n",
    "msg=\"Brainware\"\n",
    "i=0\n",
    "while i<len(msg):\n",
    "    letter=msg[i]\n",
    "    print(chr(ord(letter)+3),end=\"0\")\n",
    "    i+=1\n",
    "    "
   ]
  },
  {
   "cell_type": "code",
   "execution_count": 60,
   "metadata": {},
   "outputs": [
    {
     "name": "stdout",
     "output_type": "stream",
     "text": [
      "The string without vowles is :  5\n"
     ]
    }
   ],
   "source": [
    "# write a program that accepts a string from user and remove the vowels from it .\n",
    "def remove_vowels(s):\n",
    "    new_str=\"\"\n",
    "    for i in s :\n",
    "        if i not in \"aeiouAEIOU\":\n",
    "            new_str+=i\n",
    "    print(\"The string without vowles is : \",new_str)\n",
    "    \n",
    "text = input(\"Enter a string : \")\n",
    "remove_vowels(text)"
   ]
  },
  {
   "cell_type": "code",
   "execution_count": 61,
   "metadata": {},
   "outputs": [
    {
     "name": "stdout",
     "output_type": "stream",
     "text": [
      "\n",
      " The reversr string is :  \n"
     ]
    }
   ],
   "source": [
    "# Write a program to reverse the string \n",
    "def rev(str):\n",
    "    new=\" \"\n",
    "    i = len(str)-1\n",
    "    while i>0:\n",
    "        new+=str[i]\n",
    "        i-=1\n",
    "    return new\n",
    "str=input(\"\\n Enter a string : \")\n",
    "print(\"\\n The reversr string is :\",rev(str))"
   ]
  },
  {
   "cell_type": "code",
   "execution_count": 62,
   "metadata": {},
   "outputs": [
    {
     "name": "stdout",
     "output_type": "stream",
     "text": [
      "20\n",
      "29\n",
      "The email has been sent through gmail.com\n",
      "it was sent on  monday 01 22:18:16 202\n"
     ]
    }
   ],
   "source": [
    "# write a program to use an email id to print from which email server it was sent and when.\n",
    "info='from raitigsarkar18@gmail.com  monday 01 22:18:16 2024'\n",
    "start=info.find('@')+1\n",
    "print(start)\n",
    "end=info.find(\".com\")+4\n",
    "print(end)\n",
    "mailserver=info[start : end]\n",
    "start = end +1\n",
    "end=len(info)-1\n",
    "date_time=info[start : end]\n",
    "print(\"The email has been sent through \" +mailserver)\n",
    "print(\"it was sent on \" +date_time)"
   ]
  },
  {
   "cell_type": "code",
   "execution_count": 63,
   "metadata": {},
   "outputs": [
    {
     "name": "stdout",
     "output_type": "stream",
     "text": [
      "<class 'str'>\n",
      "abcdefghijklmnopqrstuvwxyzABCDEFGHIJKLMNOPQRSTUVWXYZ\n"
     ]
    }
   ],
   "source": [
    "# string module \n",
    "import string\n",
    "print(type(string.ascii_letters))\n",
    "print(string.ascii_letters)"
   ]
  },
  {
   "cell_type": "code",
   "execution_count": 64,
   "metadata": {},
   "outputs": [
    {
     "name": "stdout",
     "output_type": "stream",
     "text": [
      "dict() -> new empty dictionary\n",
      "dict(mapping) -> new dictionary initialized from a mapping object's\n",
      "    (key, value) pairs\n",
      "dict(iterable) -> new dictionary initialized as if via:\n",
      "    d = {}\n",
      "    for k, v in iterable:\n",
      "        d[k] = v\n",
      "dict(**kwargs) -> new dictionary initialized with the name=value pairs\n",
      "    in the keyword argument list.  For example:  dict(one=1, two=2)\n"
     ]
    }
   ],
   "source": [
    "# write a program to print the docstring of an item in string module.\n",
    "import string \n",
    "print(string.__builtins__.__doc__)"
   ]
  },
  {
   "cell_type": "code",
   "execution_count": 65,
   "metadata": {},
   "outputs": [
    {
     "name": "stdout",
     "output_type": "stream",
     "text": [
      "sells is not present in the string\n"
     ]
    },
    {
     "ename": "AttributeError",
     "evalue": "'str' object has no attribute 'string'",
     "output_type": "error",
     "traceback": [
      "\u001b[1;31m---------------------------------------------------------------------------\u001b[0m",
      "\u001b[1;31mAttributeError\u001b[0m                            Traceback (most recent call last)",
      "Cell \u001b[1;32mIn[65], line 11\u001b[0m\n\u001b[0;32m      9\u001b[0m     \u001b[38;5;28mprint\u001b[39m(pattern1,\u001b[38;5;124m\"\u001b[39m\u001b[38;5;124mis not present in the string\u001b[39m\u001b[38;5;124m\"\u001b[39m)\n\u001b[0;32m     10\u001b[0m pattern2\u001b[38;5;241m=\u001b[39m\u001b[38;5;124m\"\u001b[39m\u001b[38;5;124mshe\u001b[39m\u001b[38;5;124m\"\u001b[39m\n\u001b[1;32m---> 11\u001b[0m \u001b[38;5;28;01mif\u001b[39;00m re\u001b[38;5;241m.\u001b[39mmatch(\u001b[43mpattern2\u001b[49m\u001b[38;5;241;43m.\u001b[39;49m\u001b[43mstring\u001b[49m):\n\u001b[0;32m     12\u001b[0m     \u001b[38;5;28mprint\u001b[39m(\u001b[38;5;124m\"\u001b[39m\u001b[38;5;124mmatch founnd\u001b[39m\u001b[38;5;124m\"\u001b[39m)\n\u001b[0;32m     13\u001b[0m \u001b[38;5;28;01melse\u001b[39;00m :\n",
      "\u001b[1;31mAttributeError\u001b[0m: 'str' object has no attribute 'string'"
     ]
    }
   ],
   "source": [
    "# Regular expression demonstration with the help of python .\n",
    "# Write a programe to demonstrate the use match(),search(),sub(),suncation \n",
    "import re\n",
    "string=\"She sells sea shells on the sea shore\"\n",
    "pattern1=\"sells\"\n",
    "if re.match(pattern1,string):\n",
    "    print(\"match found\")\n",
    "else:\n",
    "    print(pattern1,\"is not present in the string\")\n",
    "pattern2=\"she\"\n",
    "if re.match(pattern2.string):\n",
    "    print(\"match founnd\")\n",
    "else :\n",
    "    print(pattern2,\"is not present in the string\")\n",
    "pattern=\"sells\"\n",
    "if re.serch(pattern,string):\n",
    "    print(\"pattern match found\")\n",
    "else:\n",
    "    print(pattern,\"is not present in the string\")\n",
    "patt=\"sea\"\n",
    "repl=\"ocean\"\n",
    "new=re.sub(patt,repl,string,1)\n",
    "print(new) "
   ]
  },
  {
   "cell_type": "code",
   "execution_count": null,
   "metadata": {},
   "outputs": [
    {
     "name": "stdout",
     "output_type": "stream",
     "text": [
      "LXT 2013 VXI 2015 VDI 2010 "
     ]
    }
   ],
   "source": [
    "import re\n",
    "pattern=r\"[a-zA-Z]+ \\d+\"\n",
    "matches=re.findall(pattern,\"LXT 2013,VXI 2015,VDI 2010, yamaha bikes in india\")\n",
    "for match in matches:\n",
    "    print(match,end=' ')"
   ]
  },
  {
   "cell_type": "code",
   "execution_count": null,
   "metadata": {},
   "outputs": [
    {
     "name": "stdout",
     "output_type": "stream",
     "text": [
      "match hellodededede\n",
      "match hello\n"
     ]
    }
   ],
   "source": [
    "#Write a program to demostrate the meta character like *,+,?,$\n",
    "import re \n",
    "patrn=r\"hello(de)*\"\n",
    "if re.search(patrn,\"hellodededede\"):\n",
    "    print(\"match hellodededede\")\n",
    "if re.search(patrn,\"hello\"):\n",
    "    print('match hello')"
   ]
  },
  {
   "cell_type": "code",
   "execution_count": null,
   "metadata": {},
   "outputs": [
    {
     "name": "stdout",
     "output_type": "stream",
     "text": [
      "match hellodededede\n"
     ]
    }
   ],
   "source": [
    "import re \n",
    "patrn=r\"hello(de)+\"\n",
    "if re.search(patrn,\"hellodededede\"):\n",
    "    print(\"match hellodededede\")\n",
    "if re.search(patrn,\"hello\"):\n",
    "    print(\"match hello\")"
   ]
  },
  {
   "cell_type": "code",
   "execution_count": null,
   "metadata": {},
   "outputs": [
    {
     "name": "stdout",
     "output_type": "stream",
     "text": [
      "match hellodededede\n",
      "match hello\n"
     ]
    }
   ],
   "source": [
    "import re \n",
    "patrn=r\"hello(de)?\"\n",
    "if re.search(patrn,\"hellodededede\"):\n",
    "    print(\"match hellodededede\")\n",
    "if re.search(patrn,\"hello\"):\n",
    "    print(\"match hello\")"
   ]
  },
  {
   "cell_type": "code",
   "execution_count": null,
   "metadata": {},
   "outputs": [
    {
     "name": "stdout",
     "output_type": "stream",
     "text": [
      "123456789,DOB:August 31,2000\n",
      "123456789\n",
      "August 31,2000\n",
      "('123456789', 'August 31,2000')\n"
     ]
    }
   ],
   "source": [
    "# write a program to demostrate the use of metacharacters and groups.\n",
    "import re\n",
    "match=re.search(\"([0-9]+).*:(.*)\",\"phone number: 123456789,DOB:August 31,2000\")\n",
    "print(match.group()) \n",
    "print(match.group(1)) \n",
    "print(match.group(2)) \n",
    "print(match.group(1,2)) \n"
   ]
  },
  {
   "cell_type": "code",
   "execution_count": null,
   "metadata": {},
   "outputs": [
    {
     "name": "stdout",
     "output_type": "stream",
     "text": [
      "Email to : library@oxfored.com\n"
     ]
    }
   ],
   "source": [
    "# write a program to extract an email address from a text.\n",
    "import re\n",
    "pattrnn = r\"[\\w.-]+@[\\w.-]+\"\n",
    "string = \"please send your information at library@oxfored.com \"\n",
    "match = re.search(pattrnn,string)\n",
    "if match :\n",
    "    print(\"Email to :\",match.group())\n",
    "else:\n",
    "    print(\"no match\")"
   ]
  },
  {
   "cell_type": "code",
   "execution_count": null,
   "metadata": {},
   "outputs": [
    {
     "name": "stdout",
     "output_type": "stream",
     "text": [
      " Hello! I am from Brainware university My current course year is 2023,and i am from BCA stream\n"
     ]
    }
   ],
   "source": [
    "# write a program that uses a regular expression to replace the ,,;,- from a string with a blank\n",
    "import re\n",
    "r=re.sub(r'[;.-]','',' Hello! I am from Brainware university.; My current course year is 2023,and i am from BCA stream.')\n",
    "print(r)"
   ]
  },
  {
   "cell_type": "code",
   "execution_count": null,
   "metadata": {},
   "outputs": [
    {
     "name": "stdout",
     "output_type": "stream",
     "text": [
      "['6634567890'] ['8901234567'] ['7789065436'] "
     ]
    }
   ],
   "source": [
    "# write a program that validates the mobile phone number. The number should start with 6,7, or 8\n",
    "import re\n",
    "l=['6634567890','1234543210','4560123901','8901234567','9834445567','7789065436']\n",
    "for i in l:\n",
    "    r=re.findall(r'[6-8]{1}[0-9]{9}',i)\n",
    "    if r:\n",
    "        print(r,end=' ')"
   ]
  },
  {
   "cell_type": "code",
   "execution_count": null,
   "metadata": {},
   "outputs": [
    {
     "name": "stdout",
     "output_type": "stream",
     "text": [
      "global varible name num1= 10\n",
      "in function -local variable num2=  20\n",
      "in function -local variable num3=  30\n",
      "num again =  10\n"
     ]
    }
   ],
   "source": [
    "# write a program to understand the local and global variable .\n",
    "num1=10 #global variable num1\n",
    "print('global varible name num1=',num1)\n",
    "#funcation defination \n",
    "def func(num2):#local variable num2\n",
    "    print('in function -local variable num2= ',num2)\n",
    "    num3 =30 #local varible num 3 \n",
    "    print('in function -local variable num3= ', num3)\n",
    "#function call \n",
    "func(20)\n",
    "print('num again = ', num1)\n",
    "#print ('num3 outside function =' ,num3  )\n"
   ]
  },
  {
   "cell_type": "code",
   "execution_count": null,
   "metadata": {},
   "outputs": [
    {
     "name": "stdout",
     "output_type": "stream",
     "text": [
      "in funcation var is  good\n",
      "outside funcation,var1 is  morning\n",
      "var is good\n"
     ]
    }
   ],
   "source": [
    "#wru=ite a program to demonstrate the use of global statement .\n",
    "var='good'\n",
    "def show():\n",
    "    global var1\n",
    "    var1='morning'\n",
    "    print('in funcation var is ',var)\n",
    "show()\n",
    "print('outside funcation,var1 is ',var1)\n",
    "print('var is',var)"
   ]
  },
  {
   "cell_type": "code",
   "execution_count": null,
   "metadata": {},
   "outputs": [
    {
     "name": "stdout",
     "output_type": "stream",
     "text": [
      "The string is : Hello\n",
      "The integer is : 14567\n",
      "The floating point value is : 4678.89\n"
     ]
    }
   ],
   "source": [
    "# program to demonstrate keyword,required,defult,variable lenght arguments.\n",
    "def display(str,int_x,float_y):\n",
    "    print(\"The string is :\",str)\n",
    "    print(\"The integer is :\",int_x)\n",
    "    print(\"The floating point value is :\",float_y)\n",
    "display(float_y=4678.890,str=\"Hello\",int_x=14567)# order arguments is not important ."
   ]
  },
  {
   "cell_type": "code",
   "execution_count": null,
   "metadata": {},
   "outputs": [
    {
     "name": "stdout",
     "output_type": "stream",
     "text": [
      "Name: Raitig\n",
      "course: MCA\n",
      "Name: Bijoy\n",
      "course: Btech\n"
     ]
    }
   ],
   "source": [
    "# program to demonstrate defaults arguments.\n",
    "def display(name,course=\"Btech\"):\n",
    "    print(\"Name: \"+name)\n",
    "    print(\"course: \"+course)\n",
    "display(course=\"MCA\",name=\"Raitig\")\n",
    "display(name=\"Bijoy\")"
   ]
  },
  {
   "cell_type": "code",
   "execution_count": null,
   "metadata": {},
   "outputs": [
    {
     "name": "stdout",
     "output_type": "stream",
     "text": [
      "\n",
      " Raitig likes to read\n",
      "Mathemtics\n",
      "Android programming\n",
      "\n",
      " Disha likes to read\n",
      "c-programing\n",
      "Data structure\n",
      "Data analyis of algorithm\n",
      "\n",
      " Bijoy likes to read\n",
      "DBMS\n"
     ]
    }
   ],
   "source": [
    "# program to demostrste variable lenght arguments/arbitary lenght of arguments.\n",
    "def func(name,*favourite_subject):\n",
    "    print(\"\\n\",name,\"likes to read\")\n",
    "    for subject in favourite_subject:\n",
    "        print(subject)\n",
    "func(\"Raitig\",\"Mathemtics\",\"Android programming\")\n",
    "func(\"Disha\",\"c-programing\",\"Data structure\",\"Data analyis of algorithm\")\n",
    "func(\"Bijoy\",\"DBMS\")"
   ]
  },
  {
   "cell_type": "code",
   "execution_count": null,
   "metadata": {},
   "outputs": [
    {
     "name": "stdout",
     "output_type": "stream",
     "text": [
      "90\n"
     ]
    }
   ],
   "source": [
    "# write a program with single return value \n",
    "def add_num(a,b):\n",
    "    r=a+b\n",
    "    return r \n",
    "sum_r=add_num(10,80)\n",
    "print(sum_r)"
   ]
  },
  {
   "cell_type": "code",
   "execution_count": null,
   "metadata": {},
   "outputs": [
    {
     "name": "stdout",
     "output_type": "stream",
     "text": [
      "(30, <built-in function sum>, 200)\n",
      "30 <built-in function sum> 200\n"
     ]
    }
   ],
   "source": [
    "# write a function that returns multiple value .\n",
    "def operate_num(x,y):\n",
    "    add=x+y\n",
    "    sub=x-y\n",
    "    mul=x*y\n",
    "    return add,sum,mul\n",
    "result_tup=operate_num(10,20)\n",
    "print(result_tup)\n",
    "# unpack the tuple\n",
    "add_t,sub_t,mul_t=operate_num(10,20)\n",
    "print(add_t,sub_t,mul_t) "
   ]
  },
  {
   "cell_type": "code",
   "execution_count": null,
   "metadata": {},
   "outputs": [
    {
     "name": "stdout",
     "output_type": "stream",
     "text": [
      "This is a simple function\n",
      "None\n"
     ]
    }
   ],
   "source": [
    "# write a function that return name .\n",
    "def simple_func():\n",
    "    print(\"This is a simple function\")\n",
    "result=simple_func()\n",
    "print(result)"
   ]
  },
  {
   "cell_type": "code",
   "execution_count": null,
   "metadata": {},
   "outputs": [
    {
     "name": "stdout",
     "output_type": "stream",
     "text": [
      "{'Name': 'uc', 'Age': 30}\n"
     ]
    }
   ],
   "source": [
    "# write a program that return a dictonary.\n",
    "def person_info(name,age):\n",
    "    person={'Name':name,'Age':age}\n",
    "    return person \n",
    "dic=person_info('uc',30)\n",
    "print(dic)"
   ]
  },
  {
   "cell_type": "code",
   "execution_count": null,
   "metadata": {},
   "outputs": [
    {
     "name": "stdout",
     "output_type": "stream",
     "text": [
      "a is smaller than b\n"
     ]
    }
   ],
   "source": [
    "# Write a programe using the functions to check wheather two number are equal or not.\n",
    "def check_relation(a,b):\n",
    "    if(a==b):\n",
    "        return 0\n",
    "    if(a>b):\n",
    "        return 1\n",
    "    if(a<b):\n",
    "        return -1\n",
    "a=5\n",
    "b=7\n",
    "result=check_relation(a,b)\n",
    "if(result==0):\n",
    "    print('a is equla to b')\n",
    "if(result==1):\n",
    "    print('a is greather than b')\n",
    "if(result==-1):\n",
    "    print('a is smaller than b')"
   ]
  },
  {
   "cell_type": "code",
   "execution_count": null,
   "metadata": {},
   "outputs": [
    {
     "name": "stdout",
     "output_type": "stream",
     "text": [
      "Function return the sum of value passed to it\n",
      "sum=  30\n"
     ]
    }
   ],
   "source": [
    "\n",
    "# Write a programe that uses docstring and variable-length arguments to add the values passed to past to the function \n",
    "def add(*args):\n",
    "    '''Function return the sum of value passed to it'''\n",
    "    sum=0\n",
    "    for i in args:\n",
    "        sum +=i\n",
    "        return sum \n",
    "print(add.__doc__)\n",
    "print(\"sum= \",add(30,40,50,60,70,80))"
   ]
  },
  {
   "cell_type": "code",
   "execution_count": null,
   "metadata": {},
   "outputs": [
    {
     "name": "stdout",
     "output_type": "stream",
     "text": [
      "\n",
      "%%%%%%\n",
      "******\n",
      "***\n",
      "***\n",
      "***\n",
      "***"
     ]
    }
   ],
   "source": [
    "#write a program to print the following pattern using defult arguments.\n",
    "def pattern(c='%',n=6,r=1):\n",
    "    for i in range(r):\n",
    "        print()\n",
    "        for j in range(n):\n",
    "             print(c,end='')\n",
    "c = input(\"Enter the character to be displayed :\")\n",
    "n = int(input(\"Enter the number to be rows : \"))\n",
    "m = int(input(\"Enter the number to be column :\"))\n",
    "pattern()\n",
    "pattern(c)\n",
    "pattern(c,n)\n",
    "pattern(c,n,m)"
   ]
  },
  {
   "cell_type": "code",
   "execution_count": null,
   "metadata": {},
   "outputs": [
    {
     "name": "stdout",
     "output_type": "stream",
     "text": [
      "10 is at at pos: 0\n",
      "20 is at at pos: 1\n",
      "30 is at at pos: 2\n",
      "40 is at at pos: 3\n",
      "50 is at at pos: 4\n",
      "60 is at at pos: 5\n",
      "70 is at at pos: 6\n"
     ]
    }
   ],
   "source": [
    "#Enumerate method in list data structure.\n",
    "number=[10,20,30,40,50,60,70]\n",
    "for pos, i in enumerate(number):\n",
    "    print(i,\"is at at pos:\",pos)#print individual item and its index/position in the list .\n",
    "    "
   ]
  },
  {
   "cell_type": "code",
   "execution_count": null,
   "metadata": {},
   "outputs": [
    {
     "name": "stdout",
     "output_type": "stream",
     "text": [
      "Element at position 0 is : 10\n",
      "Element at position 1 is : 20\n",
      "Element at position 2 is : 30\n",
      "Element at position 3 is : 40\n",
      "Element at position 4 is : 50\n",
      "Element at position 5 is : 60\n",
      "Element at position 6 is : 70\n"
     ]
    }
   ],
   "source": [
    "#iteratar fetches the value and automatically points to next element in the list using there\n",
    "number=[10,20,30,40,50,60,70]\n",
    "iterate=iter(number)#Build_in_function \n",
    "for i in range(len(number)):\n",
    "    print(\"Element at position\",i,\"is :\",next(iterate))"
   ]
  },
  {
   "cell_type": "code",
   "execution_count": null,
   "metadata": {},
   "outputs": [
    {
     "name": "stdout",
     "output_type": "stream",
     "text": [
      "[3, 6, 9, 12, 15, 18, 21, 24, 27]\n"
     ]
    }
   ],
   "source": [
    "# Write a program to create a list of number that is divisible by 3 or 6.\n",
    "def cheak(x): # function that return a boolean value is called predicates.\n",
    "    if(x%3 == 0 or x%6 ==0):\n",
    "        return 1\n",
    "num = list(filter(cheak,range(3,30))) #filter returns a sequence that contains items from the sequence \n",
    "print(num) \n"
   ]
  },
  {
   "cell_type": "code",
   "execution_count": null,
   "metadata": {},
   "outputs": [
    {
     "name": "stdout",
     "output_type": "stream",
     "text": [
      "sum of [10, 20, 30, 40] and [50, 60, 70, 80] and [90, 100, 110, 120]  =  [150, 180, 210, 240]\n"
     ]
    }
   ],
   "source": [
    "#write a program to pas more than ane sequence to map().\n",
    "def add(x,y,z):\n",
    "    return x+y+z\n",
    "l_1 =[10,20,30,40]\n",
    "l_2 =[50,60,70,80]\n",
    "l_3 =[90,100,110,120]\n",
    "l_4 =list(map(add,l_1,l_2,l_3))# map method returns a modified list .\n",
    "print(\"sum of\",l_1,\"and\",l_2,\"and\",l_3,\" = \",l_4)"
   ]
  },
  {
   "cell_type": "code",
   "execution_count": null,
   "metadata": {},
   "outputs": [
    {
     "name": "stdout",
     "output_type": "stream",
     "text": [
      "sum of values in the list = \n",
      "150\n"
     ]
    }
   ],
   "source": [
    "# write a program to calculate the sum of values in a list using the reduce method \n",
    "import functools \n",
    "def add(x,y):\n",
    "    return x+y\n",
    "number=[10,20,30,40,50]\n",
    "print(\"sum of values in the list = \")\n",
    "print(functools.reduce(add,number))"
   ]
  },
  {
   "cell_type": "code",
   "execution_count": null,
   "metadata": {},
   "outputs": [
    {
     "ename": "TypeError",
     "evalue": "'list' object is not callable",
     "output_type": "error",
     "traceback": [
      "\u001b[1;31m---------------------------------------------------------------------------\u001b[0m",
      "\u001b[1;31mTypeError\u001b[0m                                 Traceback (most recent call last)",
      "Cell \u001b[1;32mIn[7], line 4\u001b[0m\n\u001b[0;32m      2\u001b[0m \u001b[38;5;28mtuple\u001b[39m\u001b[38;5;241m=\u001b[39m(\u001b[38;5;241m1\u001b[39m,\u001b[38;5;241m2\u001b[39m,\u001b[38;5;241m3\u001b[39m,\u001b[38;5;241m4\u001b[39m,\u001b[38;5;241m5\u001b[39m)\n\u001b[0;32m      3\u001b[0m list1\u001b[38;5;241m=\u001b[39m[\u001b[38;5;124m'\u001b[39m\u001b[38;5;124mPNR\u001b[39m\u001b[38;5;124m'\u001b[39m,\u001b[38;5;124m'\u001b[39m\u001b[38;5;124mDGH\u001b[39m\u001b[38;5;124m'\u001b[39m,\u001b[38;5;124m'\u001b[39m\u001b[38;5;124mce\u001b[39m\u001b[38;5;124m'\u001b[39m,\u001b[38;5;124m'\u001b[39m\u001b[38;5;124mkl\u001b[39m\u001b[38;5;124m'\u001b[39m]\n\u001b[1;32m----> 4\u001b[0m \u001b[38;5;28mprint\u001b[39m(\u001b[43mlist1\u001b[49m\u001b[43m(\u001b[49m\u001b[43m(\u001b[49m\u001b[38;5;28;43mzip\u001b[39;49m\u001b[43m(\u001b[49m\u001b[38;5;28;43mtuple\u001b[39;49m\u001b[43m,\u001b[49m\u001b[43mlist1\u001b[49m\u001b[43m)\u001b[49m\u001b[43m)\u001b[49m\u001b[43m)\u001b[49m)\n",
      "\u001b[1;31mTypeError\u001b[0m: 'list' object is not callable"
     ]
    }
   ],
   "source": [
    "#write a program to use zip method on variable-lenght sequences.\n",
    "tuple=(1,2,3,4,5)\n",
    "list1=['PNR','DGH','ce','kl']\n",
    "print(list((zip(tuple,list1))))"
   ]
  },
  {
   "cell_type": "code",
   "execution_count": null,
   "metadata": {},
   "outputs": [
    {
     "ename": "SyntaxError",
     "evalue": "invalid syntax (1413187822.py, line 2)",
     "output_type": "error",
     "traceback": [
      "\u001b[1;36m  Cell \u001b[1;32mIn[7], line 2\u001b[1;36m\u001b[0m\n\u001b[1;33m    a =lamba x,y,z : x+y*z\u001b[0m\n\u001b[1;37m             ^\u001b[0m\n\u001b[1;31mSyntaxError\u001b[0m\u001b[1;31m:\u001b[0m invalid syntax\n"
     ]
    }
   ],
   "source": [
    "#lambda is a small anonymous function.\n",
    "a =lamba x,y,z : x+y*z\n",
    "print(a(2, 4, 5))"
   ]
  },
  {
   "cell_type": "code",
   "execution_count": null,
   "metadata": {},
   "outputs": [
    {
     "name": "stdout",
     "output_type": "stream",
     "text": [
      "[2, 4, 6, 8, 10]\n"
     ]
    }
   ],
   "source": [
    "numbers=[1,2,3,4,5,6,7,8,9,10]\n",
    "even=filter(lambda x:x%2 == 0,numbers)\n",
    "print(list(even))"
   ]
  },
  {
   "cell_type": "code",
   "execution_count": null,
   "metadata": {},
   "outputs": [
    {
     "name": "stdout",
     "output_type": "stream",
     "text": [
      "[1, 2, 3, 4, 5, 6, 7, 8, 9, 10]\n"
     ]
    }
   ],
   "source": [
    "numbers=[1,2,3,4,5,6,7,8,9,10]\n",
    "squared=filter(lambda x:x**2,numbers)\n",
    "print(list(squared))"
   ]
  },
  {
   "cell_type": "code",
   "execution_count": null,
   "metadata": {},
   "outputs": [
    {
     "name": "stdout",
     "output_type": "stream",
     "text": [
      "3628800\n"
     ]
    }
   ],
   "source": [
    "from functools import reduce \n",
    "numb=[1,2,3,4,5,6,7,8,9,10]\n",
    "prod=reduce(lambda a,b:a*b,numb)\n",
    "print(prod)"
   ]
  },
  {
   "cell_type": "code",
   "execution_count": null,
   "metadata": {},
   "outputs": [
    {
     "name": "stdout",
     "output_type": "stream",
     "text": [
      "orginal list of the tuple :\n",
      "[('english', 88), ('Math', 97), ('Computer science', 82)]\n",
      "\n",
      " sorting the list on the tuple : \n",
      "[('Computer science', 82), ('english', 88), ('Math', 97)]\n"
     ]
    }
   ],
   "source": [
    "sub_mark=[('english',88),('Math',97),('Computer science',82)]\n",
    "print('orginal list of the tuple :')\n",
    "print(sub_mark)\n",
    "sub_mark.sort(key=lambda x:x[1])\n",
    "print('\\n sorting the list on the tuple : ')\n",
    "print(sub_mark)"
   ]
  },
  {
   "cell_type": "code",
   "execution_count": null,
   "metadata": {},
   "outputs": [
    {
     "data": {
      "text/plain": [
       "['ArithmeticError',\n",
       " 'AssertionError',\n",
       " 'AttributeError',\n",
       " 'BaseException',\n",
       " 'BaseExceptionGroup',\n",
       " 'BlockingIOError',\n",
       " 'BrokenPipeError',\n",
       " 'BufferError',\n",
       " 'BytesWarning',\n",
       " 'ChildProcessError',\n",
       " 'ConnectionAbortedError',\n",
       " 'ConnectionError',\n",
       " 'ConnectionRefusedError',\n",
       " 'ConnectionResetError',\n",
       " 'DeprecationWarning',\n",
       " 'EOFError',\n",
       " 'Ellipsis',\n",
       " 'EncodingWarning',\n",
       " 'EnvironmentError',\n",
       " 'Exception',\n",
       " 'ExceptionGroup',\n",
       " 'False',\n",
       " 'FileExistsError',\n",
       " 'FileNotFoundError',\n",
       " 'FloatingPointError',\n",
       " 'FutureWarning',\n",
       " 'GeneratorExit',\n",
       " 'IOError',\n",
       " 'ImportError',\n",
       " 'ImportWarning',\n",
       " 'IndentationError',\n",
       " 'IndexError',\n",
       " 'InterruptedError',\n",
       " 'IsADirectoryError',\n",
       " 'KeyError',\n",
       " 'KeyboardInterrupt',\n",
       " 'LookupError',\n",
       " 'MemoryError',\n",
       " 'ModuleNotFoundError',\n",
       " 'NameError',\n",
       " 'None',\n",
       " 'NotADirectoryError',\n",
       " 'NotImplemented',\n",
       " 'NotImplementedError',\n",
       " 'OSError',\n",
       " 'OverflowError',\n",
       " 'PendingDeprecationWarning',\n",
       " 'PermissionError',\n",
       " 'ProcessLookupError',\n",
       " 'RecursionError',\n",
       " 'ReferenceError',\n",
       " 'ResourceWarning',\n",
       " 'RuntimeError',\n",
       " 'RuntimeWarning',\n",
       " 'StopAsyncIteration',\n",
       " 'StopIteration',\n",
       " 'SyntaxError',\n",
       " 'SyntaxWarning',\n",
       " 'SystemError',\n",
       " 'SystemExit',\n",
       " 'TabError',\n",
       " 'TimeoutError',\n",
       " 'True',\n",
       " 'TypeError',\n",
       " 'UnboundLocalError',\n",
       " 'UnicodeDecodeError',\n",
       " 'UnicodeEncodeError',\n",
       " 'UnicodeError',\n",
       " 'UnicodeTranslateError',\n",
       " 'UnicodeWarning',\n",
       " 'UserWarning',\n",
       " 'ValueError',\n",
       " 'Warning',\n",
       " 'WindowsError',\n",
       " 'ZeroDivisionError',\n",
       " '__IPYTHON__',\n",
       " '__build_class__',\n",
       " '__debug__',\n",
       " '__doc__',\n",
       " '__import__',\n",
       " '__loader__',\n",
       " '__name__',\n",
       " '__package__',\n",
       " '__spec__',\n",
       " 'abs',\n",
       " 'aiter',\n",
       " 'all',\n",
       " 'anext',\n",
       " 'any',\n",
       " 'ascii',\n",
       " 'bin',\n",
       " 'bool',\n",
       " 'breakpoint',\n",
       " 'bytearray',\n",
       " 'bytes',\n",
       " 'callable',\n",
       " 'chr',\n",
       " 'classmethod',\n",
       " 'compile',\n",
       " 'complex',\n",
       " 'copyright',\n",
       " 'credits',\n",
       " 'delattr',\n",
       " 'dict',\n",
       " 'dir',\n",
       " 'display',\n",
       " 'divmod',\n",
       " 'enumerate',\n",
       " 'eval',\n",
       " 'exec',\n",
       " 'execfile',\n",
       " 'filter',\n",
       " 'float',\n",
       " 'format',\n",
       " 'frozenset',\n",
       " 'get_ipython',\n",
       " 'getattr',\n",
       " 'globals',\n",
       " 'hasattr',\n",
       " 'hash',\n",
       " 'help',\n",
       " 'hex',\n",
       " 'id',\n",
       " 'input',\n",
       " 'int',\n",
       " 'isinstance',\n",
       " 'issubclass',\n",
       " 'iter',\n",
       " 'len',\n",
       " 'license',\n",
       " 'list',\n",
       " 'locals',\n",
       " 'map',\n",
       " 'max',\n",
       " 'memoryview',\n",
       " 'min',\n",
       " 'next',\n",
       " 'object',\n",
       " 'oct',\n",
       " 'open',\n",
       " 'ord',\n",
       " 'pow',\n",
       " 'print',\n",
       " 'property',\n",
       " 'range',\n",
       " 'repr',\n",
       " 'reversed',\n",
       " 'round',\n",
       " 'runfile',\n",
       " 'set',\n",
       " 'setattr',\n",
       " 'slice',\n",
       " 'sorted',\n",
       " 'staticmethod',\n",
       " 'str',\n",
       " 'sum',\n",
       " 'super',\n",
       " 'tuple',\n",
       " 'type',\n",
       " 'vars',\n",
       " 'zip']"
      ]
     },
     "execution_count": 1,
     "metadata": {},
     "output_type": "execute_result"
    }
   ],
   "source": [
    "import builtins\n",
    "dir(builtins)"
   ]
  },
  {
   "cell_type": "code",
   "execution_count": null,
   "metadata": {},
   "outputs": [
    {
     "name": "stdout",
     "output_type": "stream",
     "text": [
      "\n",
      " pythonpath= \n",
      " ['c:\\\\Users\\\\Raitig sarkar\\\\OneDrive\\\\Desktop\\\\Coding\\\\python', 'c:\\\\Users\\\\Raitig sarkar\\\\AppData\\\\Local\\\\Programs\\\\Python\\\\Python312\\\\python312.zip', 'c:\\\\Users\\\\Raitig sarkar\\\\AppData\\\\Local\\\\Programs\\\\Python\\\\Python312\\\\DLLs', 'c:\\\\Users\\\\Raitig sarkar\\\\AppData\\\\Local\\\\Programs\\\\Python\\\\Python312\\\\Lib', 'c:\\\\Users\\\\Raitig sarkar\\\\AppData\\\\Local\\\\Programs\\\\Python\\\\Python312', '', 'C:\\\\Users\\\\Raitig sarkar\\\\AppData\\\\Roaming\\\\Python\\\\Python312\\\\site-packages', 'C:\\\\Users\\\\Raitig sarkar\\\\AppData\\\\Roaming\\\\Python\\\\Python312\\\\site-packages\\\\win32', 'C:\\\\Users\\\\Raitig sarkar\\\\AppData\\\\Roaming\\\\Python\\\\Python312\\\\site-packages\\\\win32\\\\lib', 'C:\\\\Users\\\\Raitig sarkar\\\\AppData\\\\Roaming\\\\Python\\\\Python312\\\\site-packages\\\\Pythonwin', 'c:\\\\Users\\\\Raitig sarkar\\\\AppData\\\\Local\\\\Programs\\\\Python\\\\Python312\\\\Lib\\\\site-packages']\n"
     ]
    }
   ],
   "source": [
    "import sys\n",
    "print(\"\\n pythonpath= \\n\",sys.path)"
   ]
  },
  {
   "cell_type": "code",
   "execution_count": null,
   "metadata": {},
   "outputs": [
    {
     "name": "stdout",
     "output_type": "stream",
     "text": [
      "pI = 3.141592653589793\n"
     ]
    }
   ],
   "source": [
    "#write a program to show the use of from ...import statement \n",
    "from math import pi\n",
    "print(\"pI =\",+pi)"
   ]
  },
  {
   "cell_type": "code",
   "execution_count": null,
   "metadata": {},
   "outputs": [
    {
     "name": "stdout",
     "output_type": "stream",
     "text": [
      "9.0\n"
     ]
    }
   ],
   "source": [
    "# write a program to show the use of 'as' keywords\n",
    "from math import sqrt as squre_root\n",
    "print(squre_root(81))"
   ]
  },
  {
   "cell_type": "code",
   "execution_count": null,
   "metadata": {},
   "outputs": [
    {
     "name": "stdout",
     "output_type": "stream",
     "text": [
      "Hello world!\n",
      "Name of the module is :  __main__\n"
     ]
    }
   ],
   "source": [
    "#write a programe to print the name of the module in which the statement  in written \n",
    "print(\"Hello world!\")\n",
    "print(\"Name of the module is : \",__name__) "
   ]
  },
  {
   "cell_type": "code",
   "execution_count": null,
   "metadata": {},
   "outputs": [
    {
     "name": "stdout",
     "output_type": "stream",
     "text": [
      "my_module str= Welcome to the brainware university !!!\n",
      "hello\n",
      "name of the called module is :  my_module\n",
      "Name of the calling module is : __main__\n"
     ]
    }
   ],
   "source": [
    "#write a program to import the user defined module .\n",
    "import my_module \n",
    "print(\"my_module str=\",my_module.str)\n",
    "my_module.display()\n",
    "print(\"Name of the calling module is :\",__name__)"
   ]
  },
  {
   "cell_type": "code",
   "execution_count": null,
   "metadata": {},
   "outputs": [
    {
     "name": "stdout",
     "output_type": "stream",
     "text": [
      "local current time :  Thu May  2 10:49:17 2024\n"
     ]
    }
   ],
   "source": [
    "# write a program to display the date and time using the time module \n",
    "import time \n",
    "localtime=time.asctime(time.localtime(time.time()))\n",
    "print(\"local current time : \",localtime)"
   ]
  },
  {
   "cell_type": "code",
   "execution_count": null,
   "metadata": {},
   "outputs": [
    {
     "name": "stdout",
     "output_type": "stream",
     "text": [
      "     June 2024\n",
      "Mo Tu We Th Fr Sa Su\n",
      "                1  2\n",
      " 3  4  5  6  7  8  9\n",
      "10 11 12 13 14 15 16\n",
      "17 18 19 20 21 22 23\n",
      "24 25 26 27 28 29 30\n",
      "\n"
     ]
    }
   ],
   "source": [
    "# write a programe that prints the calender of a particular month\n",
    "import calendar\n",
    "print(calendar.month(2024,6))"
   ]
  },
  {
   "cell_type": "code",
   "execution_count": null,
   "metadata": {},
   "outputs": [
    {
     "name": "stdout",
     "output_type": "stream",
     "text": [
      "Wealcome to the braineare university \n"
     ]
    }
   ],
   "source": [
    "#Write a program that uses the getpass module to prompt the user for a password , with out echoing what have type to concole \n",
    "import getpass\n",
    "password = getpass.getpass(prompt='Enter the password')\n",
    "if password == 'brainware' :\n",
    "    print('Wealcome to the braineare university ')\n",
    "else :\n",
    "    print('incorrect password .......')"
   ]
  },
  {
   "cell_type": "code",
   "execution_count": null,
   "metadata": {},
   "outputs": [
    {
     "name": "stdout",
     "output_type": "stream",
     "text": [
      "100\n",
      "In class method...\n"
     ]
    }
   ],
   "source": [
    "# Write a program to demonstrate the class member using class objects .\n",
    "class A():          #Define class with classname \n",
    "    var=100         #Define class variable\n",
    "    def display(self):  #Define class function/method \n",
    "        print(\"In class method...\")\n",
    "obj =A()            #Create an object with the help of the class name\n",
    "print(obj.var)      #print the value of the varible with the help of object\n",
    "obj.display()       #Access the class method with the help of class object\n",
    "                    #In the class method and variable both are used to called as "
   ]
  },
  {
   "cell_type": "code",
   "execution_count": null,
   "metadata": {},
   "outputs": [
    {
     "name": "stdout",
     "output_type": "stream",
     "text": [
      "In the class method......\n",
      "The value is : 50\n"
     ]
    }
   ],
   "source": [
    "# write a program illustrating the use of __ init __() method  .\n",
    "class B():\n",
    "    def __init__(self,val):\n",
    "        print(\"In the class method......\")\n",
    "        self.val=val\n",
    "        print(\"The value is :\",val)\n",
    "obj=B(50)"
   ]
  },
  {
   "cell_type": "code",
   "execution_count": null,
   "metadata": {},
   "outputs": [
    {
     "name": "stdout",
     "output_type": "stream",
     "text": [
      "The object value is :  10\n",
      "The value of the class variable is :  1\n",
      "The object value is :  20\n",
      "The value of the class variable is :  2\n",
      "The object value is :  30\n",
      "The value of the class variable is :  3\n",
      "The object value is :  40\n",
      "The value of the class variable is :  4\n",
      "The object value is :  50\n",
      "The value of the class variable is :  5\n"
     ]
    }
   ],
   "source": [
    "# write a program to differentiate between class and object variable .\n",
    "class c():      #Define class with the class name \n",
    "    class_var=0 #Define the class variable with assign the value zero.\n",
    "    def __init__(self,var):# Define / initailize the method with self and var variable\n",
    "        c.class_var+=1  #Class variable with class name 'c'\n",
    "        self.var=var    #Class variable thet need an object to access\n",
    "        print(\"The object value is : \",var)\n",
    "        print(\"The value of the class variable is : \",c.class_var)\n",
    "obj1=c(10)\n",
    "obj2=c(20)\n",
    "obj3=c(30)\n",
    "obj4=c(40)\n",
    "obj5=c(50)"
   ]
  },
  {
   "cell_type": "code",
   "execution_count": null,
   "metadata": {},
   "outputs": [
    {
     "name": "stdout",
     "output_type": "stream",
     "text": [
      "100\n"
     ]
    }
   ],
   "source": [
    "class ABC:\n",
    "    var=100 #class variable \n",
    "obj=ABC()\n",
    "print(obj.var)"
   ]
  },
  {
   "cell_type": "code",
   "execution_count": null,
   "metadata": {},
   "outputs": [
    {
     "name": "stdout",
     "output_type": "stream",
     "text": [
      "The object value is : 10\n",
      "The value of class variable is : 1\n",
      "The object value is : 20\n",
      "The value of class variable is : 2\n",
      "The object value is : 30\n",
      "The value of class variable is : 3\n",
      "object with value 10 is going out of scope\n",
      "object with value 20 is going out of scope\n",
      "object with value 30 is going out of scope\n"
     ]
    }
   ],
   "source": [
    "# write a program to use of __del__().\n",
    "class ABC():\n",
    "    class_var=0\n",
    "    def __init__(self,var):\n",
    "        ABC.class_var+=1\n",
    "        self.var=var\n",
    "        print(\"The object value is :\",var)\n",
    "        print(\"The value of class variable is :\",ABC.class_var)\n",
    "    def __del__(self):# the __del__() method is automatically going out of space \n",
    "        ABC.class_var-=1\n",
    "        print(\"object with value %d is going out of scope\"%self.var)\n",
    "obj1 = ABC(10)\n",
    "obj2 = ABC(20)\n",
    "obj3 = ABC(30)\n",
    "del obj1\n",
    "del obj2\n",
    "del obj3"
   ]
  },
  {
   "cell_type": "code",
   "execution_count": null,
   "metadata": {},
   "outputs": [
    {
     "name": "stdout",
     "output_type": "stream",
     "text": [
      "The value stored in object is :  10\n",
      "The lenght of name stored in object is :  6\n",
      "second value is less than first \n"
     ]
    }
   ],
   "source": [
    "# write a program to yse a specail method in python class\n",
    "class x():\n",
    "    def __init__(self,name,var):\n",
    "        self.name=name\n",
    "        self.var=var\n",
    "    def __repr__(self):\n",
    "        return repr(self.var)\n",
    "    def __len__(self):\n",
    "        return len(self.name)\n",
    "    def __cmp__(self,obj):\n",
    "        return self.var-obj.var\n",
    "obj=x(\"abcdef\",10)\n",
    "print(\"The value stored in object is : \",repr(obj))\n",
    "print(\"The lenght of name stored in object is : \",len(obj))\n",
    "obj1 = x(\"ghijkl\",1)\n",
    "val = obj.__cmp__(obj1)\n",
    "if val == -1:\n",
    "    print(\"First value is less than second\")\n",
    "else:\n",
    "    print(\"second value is less than first \")"
   ]
  },
  {
   "cell_type": "code",
   "execution_count": null,
   "metadata": {},
   "outputs": [
    {
     "name": "stdout",
     "output_type": "stream",
     "text": [
      "6\n",
      "[1, 2, 3, 10, 5, 6, 7, 8, 9, 10]\n"
     ]
    }
   ],
   "source": [
    "# write a program to demostrate the use of __getitem__()and __selitem__() method\n",
    "class num:\n",
    "    def __init__(self,mylist):\n",
    "        self.mylist=mylist\n",
    "    def __getitem__(self,index):\n",
    "        return self.mylist[index]\n",
    "    def __setitem__(self,index,val):\n",
    "        self.mylist[index]=val\n",
    "numlist=num([1,2,3,4,5,6,7,8,9,10])\n",
    "print(numlist[5])\n",
    "numlist[3]=10\n",
    "print(numlist.mylist)\n",
    "        "
   ]
  },
  {
   "cell_type": "code",
   "execution_count": null,
   "metadata": {},
   "outputs": [
    {
     "name": "stdout",
     "output_type": "stream",
     "text": [
      "From class method,var1= 10\n",
      "From class method,var2=  20\n",
      "From class method,var1= 10\n",
      "From class method,var2=  20\n"
     ]
    }
   ],
   "source": [
    "# write a program to demostrate betwen public and private variables.\n",
    "class MNO():\n",
    "    def __init__(self,var1,var2) : #method \n",
    "        self.var1=var1\n",
    "        self.__var2=var2 #privet\n",
    "    def display(self): #method\n",
    "        print(\"From class method,var1=\",self.var1)\n",
    "        print(\"From class method,var2= \",self.__var2)\n",
    "obj =MNO(10,20)\n",
    "obj.display()\n",
    "print(\"From class method,var1=\",obj.var1)\n",
    "#print(\"From class method,var2= \",obj.__var2)\n",
    "print(\"From class method,var2= \",obj._MNO__var2)\n",
    "    "
   ]
  },
  {
   "cell_type": "code",
   "execution_count": null,
   "metadata": {},
   "outputs": [
    {
     "name": "stdout",
     "output_type": "stream",
     "text": [
      "From class method, var=  10\n"
     ]
    }
   ],
   "source": [
    "# write a program to illustrate the use of a privet method .\n",
    "class MNO():\n",
    "    def __init__(self,var):\n",
    "        self.__var=var\n",
    "    def __display(self):\n",
    "        print(\"From class method, var= \",self.__var)\n",
    "obj=MNO(10)\n",
    "obj._MNO__display()"
   ]
  },
  {
   "cell_type": "code",
   "execution_count": null,
   "metadata": {},
   "outputs": [
    {
     "name": "stdout",
     "output_type": "stream",
     "text": [
      "var is = 12\n"
     ]
    }
   ],
   "source": [
    "#write a program to call a method from another method in the same class .\n",
    "class A():\n",
    "    def __init__(self,var):\n",
    "        self.var=var\n",
    "    def display(self):\n",
    "        print(\"var is =\",self.var)\n",
    "    def add(self):\n",
    "        self.var +=2\n",
    "        self.display()\n",
    "obj=A(10)\n",
    "obj.add()    "
   ]
  },
  {
   "cell_type": "code",
   "execution_count": null,
   "metadata": {},
   "outputs": [
    {
     "name": "stdout",
     "output_type": "stream",
     "text": [
      "var is =  20\n",
      "cheak if the attribute is ..... True\n",
      "After setting the new value,var is :  50\n",
      "NEw variable count is craeated :  10\n"
     ]
    },
    {
     "ename": "AttributeError",
     "evalue": "'B' object has no attribute 'var'",
     "output_type": "error",
     "traceback": [
      "\u001b[1;31m---------------------------------------------------------------------------\u001b[0m",
      "\u001b[1;31mAttributeError\u001b[0m                            Traceback (most recent call last)",
      "Cell \u001b[1;32mIn[15], line 16\u001b[0m\n\u001b[0;32m     14\u001b[0m \u001b[38;5;28mprint\u001b[39m(\u001b[38;5;124m\"\u001b[39m\u001b[38;5;124mNEw variable count is craeated : \u001b[39m\u001b[38;5;124m\"\u001b[39m,obj\u001b[38;5;241m.\u001b[39mcount)\n\u001b[0;32m     15\u001b[0m \u001b[38;5;28mdelattr\u001b[39m(obj,\u001b[38;5;124m'\u001b[39m\u001b[38;5;124mvar\u001b[39m\u001b[38;5;124m'\u001b[39m)\n\u001b[1;32m---> 16\u001b[0m \u001b[38;5;28mprint\u001b[39m(\u001b[38;5;124m\"\u001b[39m\u001b[38;5;124mAfter deleting the attribute ,var is : \u001b[39m\u001b[38;5;124m\"\u001b[39m,\u001b[43mobj\u001b[49m\u001b[38;5;241;43m.\u001b[39;49m\u001b[43mvar\u001b[49m)\n",
      "\u001b[1;31mAttributeError\u001b[0m: 'B' object has no attribute 'var'"
     ]
    }
   ],
   "source": [
    "# write a program to demostrate the use of getattrr(),setattr(),delattr() funcation \n",
    "class B():\n",
    "    def __init__(self,var):\n",
    "        self.var=var\n",
    "    def display(self):\n",
    "        print(\"var is = \",self.var)\n",
    "obj=B(20)\n",
    "obj.display()\n",
    "print(\"cheak if the attribute is .....\",hasattr(obj,'var'))\n",
    "getattr(obj,'var')\n",
    "setattr(obj,'var',50)\n",
    "print(\"After setting the new value,var is : \",obj.var)\n",
    "setattr(obj,'count',10)\n",
    "print(\"New variable count is craeated : \",obj.count)\n",
    "delattr(obj,'var')\n",
    "print(\"After deleting the attribute ,var is : \",obj.var)\n",
    "    "
   ]
  },
  {
   "cell_type": "code",
   "execution_count": null,
   "metadata": {},
   "outputs": [
    {
     "name": "stdout",
     "output_type": "stream",
     "text": [
      "var is =  10\n",
      "var is =  20.35\n",
      "object.__dict__ -  {'var1': 10, 'var2': 20.35}\n",
      "object.__doc__ -  None\n",
      "object.__name__ -  c\n",
      "object.__module__ -  __main__\n",
      "object.__bases__ -  (<class 'object'>,)\n"
     ]
    }
   ],
   "source": [
    "# write a program to demonstration of the use of built in class attributes.\n",
    "class c():\n",
    "    def __init__(self,var1,var2):\n",
    "        self.var1=var1\n",
    "        self.var2=var2\n",
    "    def display(self):\n",
    "        print(\"var is = \",self.var1)\n",
    "        print(\"var is = \",self.var2)\n",
    "obj=c(10,20.35)\n",
    "obj.display()\n",
    "print(\"object.__dict__ - \",obj.__dict__) \n",
    "print(\"object.__doc__ - \",obj.__doc__)\n",
    "print(\"object.__name__ - \",c.__name__)\n",
    "print(\"object.__module__ - \",obj.__module__) \n",
    "print(\"object.__bases__ - \",c.__bases__)   "
   ]
  },
  {
   "cell_type": "code",
   "execution_count": null,
   "metadata": {},
   "outputs": [
    {
     "name": "stdout",
     "output_type": "stream",
     "text": [
      "Area =  100\n"
     ]
    }
   ],
   "source": [
    "# write a program to demonstrate the use of classmethod \n",
    "class rectangle:\n",
    "    def __init__(self,lenght,breadth):\n",
    "        self.lenght=lenght\n",
    "        self.breadth=breadth\n",
    "    def area(self):\n",
    "        return self.lenght * self.breadth\n",
    "    @classmethod #Decorator :@chracter in the prefix to the function . also calld meta program \n",
    "    def square(clss,side):\n",
    "        return clss(side,side)\n",
    "s=rectangle.square(10)\n",
    "print(\"Area = \",s.area())"
   ]
  },
  {
   "cell_type": "code",
   "execution_count": null,
   "metadata": {},
   "outputs": [
    {
     "name": "stdout",
     "output_type": "stream",
     "text": [
      "25\n",
      "49\n"
     ]
    }
   ],
   "source": [
    "# write a programe to illustrate the atatic method .\n",
    "# define a class with a static method \n",
    "class mathutils :\n",
    "    @staticmethod\n",
    "    def claculate_square(number):\n",
    "        return number ** 2\n",
    "# call the static method using the class name \n",
    "print(mathutils.claculate_square(5)) # output 25\n",
    "# you can also assign thr static methos to a variable and call it \n",
    "square = mathutils.claculate_square\n",
    "print(square(7)) #output:49"
   ]
  },
  {
   "cell_type": "code",
   "execution_count": null,
   "metadata": {},
   "outputs": [
    {
     "name": "stdout",
     "output_type": "stream",
     "text": [
      "Raitig sarkar\n",
      "Raitig sarkar\n"
     ]
    }
   ],
   "source": [
    "# Write a program that uses get and set functions to retreive and set value .\n",
    "# Define a class with a privet attribute and get/set function .\n",
    "class person :\n",
    "    def __init__(self,name):\n",
    "        self.__name = name #private attribute \n",
    "    def get_name(self):\n",
    "        return self.__name\n",
    "    def set_name(self,name):\n",
    "        self.__name=name\n",
    "    \n",
    "# create an instance of the person class\n",
    "p = person(\"Raitig sarkar\")\n",
    "#use the get_name function to retrieve the name \n",
    "print(p.get_name())\n",
    "#use the set_name function to set the name \n",
    "p.set_name(\"Raitig sarkar\")\n",
    "# use the get_name function to retrive the update name \n",
    "print(p.get_name())"
   ]
  },
  {
   "cell_type": "code",
   "execution_count": null,
   "metadata": {},
   "outputs": [
    {
     "name": "stdout",
     "output_type": "stream",
     "text": [
      "100\n"
     ]
    }
   ],
   "source": [
    "# write a program to demonstrate the @property and @setter method.\n",
    "class sample:\n",
    "    def __init__(self,val):\n",
    "        self.val=val\n",
    "    @property\n",
    "    def val(self):\n",
    "        return self.__val\n",
    "    @val.setter\n",
    "    def val(self,val):\n",
    "        self.__val=val\n",
    "    @val.deleter\n",
    "    def val(self):\n",
    "        del self.val\n",
    "s=sample(20)\n",
    "s.val=100\n",
    "print(s.val)"
   ]
  },
  {
   "cell_type": "code",
   "execution_count": null,
   "metadata": {},
   "outputs": [
    {
     "name": "stdout",
     "output_type": "stream",
     "text": [
      "['__class__', '__cmp__', '__delattr__', '__dict__', '__dir__', '__doc__', '__eq__', '__format__', '__ge__', '__getattribute__', '__getstate__', '__gt__', '__hash__', '__init__', '__init_subclass__', '__le__', '__len__', '__lt__', '__module__', '__ne__', '__new__', '__reduce__', '__reduce_ex__', '__repr__', '__setattr__', '__sizeof__', '__str__', '__subclasshook__', '__weakref__', 'name', 'var']\n"
     ]
    }
   ],
   "source": [
    "s=\"hello\"\n",
    "print(dir(obj))"
   ]
  },
  {
   "cell_type": "code",
   "execution_count": null,
   "metadata": {},
   "outputs": [
    {
     "name": "stdout",
     "output_type": "stream",
     "text": [
      "['__class__', '__cmp__', '__delattr__', '__dict__', '__dir__', '__doc__', '__eq__', '__format__', '__ge__', '__getattribute__', '__getstate__', '__gt__', '__hash__', '__init__', '__init_subclass__', '__le__', '__len__', '__lt__', '__module__', '__ne__', '__new__', '__reduce__', '__reduce_ex__', '__repr__', '__setattr__', '__sizeof__', '__str__', '__subclasshook__', '__weakref__', 'name', 'var']\n"
     ]
    }
   ],
   "source": [
    "class A:\n",
    "    num='Rai'\n",
    "s=\"hello\"\n",
    "print(dir(obj))"
   ]
  },
  {
   "cell_type": "code",
   "execution_count": null,
   "metadata": {},
   "outputs": [
    {
     "name": "stdout",
     "output_type": "stream",
     "text": [
      "100\n"
     ]
    }
   ],
   "source": [
    "#write a program to demonstrate the privet getter and setter method\n",
    "class sample:\n",
    "    def __init__(self,val):\n",
    "        self.__val=val\n",
    "    def __get_val(self):\n",
    "        return self.__val\n",
    "    def __set_val(self,val):\n",
    "        self.__val=val\n",
    "        val=property(__get_val,__set_val)\n",
    "s=sample(20)\n",
    "s.val=100\n",
    "print(s.val)"
   ]
  },
  {
   "cell_type": "code",
   "execution_count": null,
   "metadata": {},
   "outputs": [
    {
     "name": "stdout",
     "output_type": "stream",
     "text": [
      "Abdul kalam\n"
     ]
    }
   ],
   "source": [
    "#write a program to demostrate a method behaving like an atribute .\n",
    "class student:\n",
    "    def __init__(self,first_name,last_name):\n",
    "        self.__first_name=first_name\n",
    "        self.__last_name=last_name\n",
    "    @property #The mehod will actas an atribute.\n",
    "    def name(self):\n",
    "        return \"%s %s\" %(self.__first_name,self.__last_name)\n",
    "s=student(\"Abdul\",\"kalam\")\n",
    "print(s.name) "
   ]
  },
  {
   "cell_type": "code",
   "execution_count": null,
   "metadata": {},
   "outputs": [
    {
     "name": "stdout",
     "output_type": "stream",
     "text": [
      "*****Teacher*****\n",
      "name : Uttaran\n",
      "Age : 700\n",
      "Experience : 500\n",
      "Research area : Python\n",
      "*****Student*****\n",
      "name : Raitig\n",
      "Age : 20\n",
      "course : BCA\n",
      "marks : 80\n"
     ]
    }
   ],
   "source": [
    "# Write a programe to demostrate a inharitate mrthod \n",
    "class person:\n",
    "    def __init__(self,name,age):\n",
    "        self.name=name\n",
    "        self.age=age\n",
    "    def display (self):\n",
    "        print(\"name :\",self.name)\n",
    "        print(\"Age :\",self.age)\n",
    "class teacher(person):\n",
    "    def __init__(self,name,age,exp,r_area):\n",
    "        person.__init__(self,name,age)\n",
    "        self.exp=exp\n",
    "        self.r_area=r_area\n",
    "    def displaydata(self):\n",
    "        person.display(self)\n",
    "        print(\"Experience :\",self.exp)\n",
    "        print(\"Research area :\",self.r_area)\n",
    "class student(person):\n",
    "    def __init__(self,name,age,course,marks):\n",
    "        person.__init__(self,name,age)  \n",
    "        self.course=course\n",
    "        self.marks=marks\n",
    "    def displaydata(self):\n",
    "        person.display(self)\n",
    "        print(\"course :\",self.course)\n",
    "        print(\"marks :\",self.marks)\n",
    "    print(\"*****Teacher*****\")\n",
    "    T=teacher(\"Uttaran\",700,500,\"Python\")\n",
    "    T.displaydata()\n",
    "    print(\"*****Student*****\")\n",
    "    s=student(\"Raitig\",20,\"BCA\",80)\n",
    "    s.displaydata()"
   ]
  },
  {
   "cell_type": "code",
   "execution_count": null,
   "metadata": {},
   "outputs": [],
   "source": [
    "# Example of method-overriding(run-time polymorphism)\n",
    "class person:\n",
    "    def __init__(self,name,age):\n",
    "        self.name=name \n",
    "        self.age=age\n",
    "    def dispaly(self):\n",
    "        print(\"Name :\",self.name)\n",
    "        print(\"Age : \",self.age)\n",
    "class teacher(person):\n",
    "    def __init__(self,name,age,exp,r_area):\n",
    "        person.__init__(self,name,age)\n",
    "        self.exp=exp\n",
    "        self.r_area=r_area\n",
    "    def displaydata(self):\n",
    "        person.display(self)\n",
    "        print(\"Experience: \",self.exp)\n",
    "        print(\"Research area :\",self.r_area)\n"
   ]
  },
  {
   "cell_type": "code",
   "execution_count": null,
   "metadata": {},
   "outputs": [
    {
     "name": "stdout",
     "output_type": "stream",
     "text": [
      "Base1 class\n"
     ]
    }
   ],
   "source": [
    "# Write a program to demonstrate the inheritance with the __init__()method.\n",
    "class base1(object):\n",
    "    def __init__(self):\n",
    "        print(\"Base1 class\")\n",
    "class base2(object):\n",
    "    def __init__(self):\n",
    "        print(\"Base2 class\")\n",
    "class derived(base1,base2):\n",
    "    pass\n",
    "D=derived()"
   ]
  },
  {
   "cell_type": "code",
   "execution_count": null,
   "metadata": {},
   "outputs": [
    {
     "name": "stdout",
     "output_type": "stream",
     "text": [
      "Base1 class\n",
      "Base2 class\n"
     ]
    }
   ],
   "source": [
    "#write a program to demonstrate the inheritance with the super() method \n",
    "class base1(object):\n",
    "    def __init__(self):\n",
    "        print(\"Base1 class\")\n",
    "        super(base1,self).__init__()\n",
    "class base2(object):\n",
    "    def __init__(self):\n",
    "        print(\"Base2 class\")\n",
    "class derived(base1,base2):\n",
    "    pass\n",
    "D=derived()"
   ]
  },
  {
   "cell_type": "code",
   "execution_count": null,
   "metadata": {},
   "outputs": [
    {
     "name": "stdout",
     "output_type": "stream",
     "text": [
      "Base1 class\n",
      "Base2 class\n",
      "Derived class\n"
     ]
    }
   ],
   "source": [
    "#write a program to demonstrate the multi-lavel inharitance \n",
    "class base1(object):\n",
    "    def __init__(self):\n",
    "        print(\"Base1 class\")\n",
    "        super(base1,self).__init__()\n",
    "class base2(object):\n",
    "    def __init__(self):\n",
    "        print(\"Base2 class\")\n",
    "class derived(base1,base2):\n",
    "    def __init__(self):\n",
    "        super(derived,self).__init__()\n",
    "        print(\"Derived class\")\n",
    "D=derived()"
   ]
  },
  {
   "cell_type": "code",
   "execution_count": null,
   "metadata": {},
   "outputs": [
    {
     "name": "stdout",
     "output_type": "stream",
     "text": [
      "Name.....\n",
      "qualification ......phd must\n",
      "Experience .... at list 15 year\n"
     ]
    }
   ],
   "source": [
    "#write a program to demonstrate the multi-lavel inheritance\n",
    "class person:\n",
    "    def name(self):\n",
    "        print('Name.....')\n",
    "class teacher(person):\n",
    "    def qualification(self):\n",
    "        print('qualification ......phd must')\n",
    "class HOD(teacher):\n",
    "    def experience(self):\n",
    "        print('Experience .... at list 15 year')\n",
    "hod=HOD()\n",
    "hod.name()\n",
    "hod.qualification()\n",
    "hod.experience()"
   ]
  },
  {
   "cell_type": "code",
   "execution_count": null,
   "metadata": {},
   "outputs": [
    {
     "name": "stdout",
     "output_type": "stream",
     "text": [
      "******minimum eligibility to apply******\n",
      "Academic score ....90% and above \n",
      "ECA score .... 60% and avobe\n"
     ]
    }
   ],
   "source": [
    "#write a programe to dempnstrate the multi-path inharitance .\n",
    "class student:\n",
    "    def name(self):\n",
    "        print('Name...')\n",
    "class academic_performance(student):\n",
    "    def acad_scor(self):\n",
    "        print('Academic score ....90% and above ')\n",
    "class ECA:\n",
    "    def ECA_score(self):\n",
    "        print(\"ECA score .... 60% and avobe\")\n",
    "class result(academic_performance,ECA):\n",
    "    def eligibility(self):\n",
    "        print('******minimum eligibility to apply******')\n",
    "        self.acad_scor()\n",
    "        self.ECA_score()\n",
    "R=result()\n",
    "R.eligibility()"
   ]
  },
  {
   "cell_type": "code",
   "execution_count": null,
   "metadata": {},
   "outputs": [
    {
     "name": "stdout",
     "output_type": "stream",
     "text": [
      "I can walk and run\n",
      "I can crawl\n",
      "i can bark\n"
     ]
    },
    {
     "data": {
      "text/plain": [
       "<bound method Lion.move of <__main__.Lion object at 0x000002DB9FF6C260>>"
      ]
     },
     "execution_count": 5,
     "metadata": {},
     "output_type": "execute_result"
    }
   ],
   "source": [
    "#Write a program to demonstrate the abstruct class \n",
    "from abc import ABC, abstractmethod\n",
    "class Animal(ABC):\n",
    "    @abstractmethod\n",
    "    def move(self):\n",
    "        pass\n",
    "class Human(Animal):\n",
    "    def move(self):\n",
    "        print(\"I can walk and run\")\n",
    "class Snake(Animal):\n",
    "    def move(self):\n",
    "        print('I can crawl')\n",
    "class Dog(Animal):\n",
    "    def move(self):\n",
    "        print('i can bark')\n",
    "class Lion(Animal):\n",
    "    def move(self):\n",
    "        print('i can roar')\n",
    "# you can't instantiate an abstract class\n",
    "# c = animal () #This would right type error \n",
    "# But you can instantiate the concrete subclass \n",
    "r = Human()\n",
    "r.move()\n",
    "k = Snake()\n",
    "k.move()\n",
    "r = Dog()\n",
    "r.move()\n",
    "k = Lion()\n",
    "k.move\n",
    "\n",
    "    "
   ]
  },
  {
   "cell_type": "code",
   "execution_count": null,
   "metadata": {},
   "outputs": [
    {
     "name": "stdout",
     "output_type": "stream",
     "text": [
      "(3,5)\n"
     ]
    }
   ],
   "source": [
    "# write a program to demondtrate the operator overloading .\n",
    "class point :\n",
    "    def __init__(self, x=0, y=0):\n",
    "        self.x=x\n",
    "        self.y=y\n",
    "    def __str__(self):\n",
    "        return\"({0},{1})\".format(self.x,self.y)\n",
    "    def __add__(self,other):\n",
    "        x = self.x + other.x\n",
    "        y = self.y + other.y\n",
    "        return point(x,y)\n",
    "p1 = point(1, 2)\n",
    "p2 = point(2, 3)\n",
    "print(p1 + p2 )        "
   ]
  },
  {
   "cell_type": "code",
   "execution_count": null,
   "metadata": {},
   "outputs": [
    {
     "ename": "SyntaxError",
     "evalue": "(unicode error) 'unicodeescape' codec can't decode bytes in position 2-3: truncated \\UXXXXXXXX escape (4151393210.py, line 2)",
     "output_type": "error",
     "traceback": [
      "\u001b[1;36m  Cell \u001b[1;32mIn[5], line 2\u001b[1;36m\u001b[0m\n\u001b[1;33m    file=open('C:\\Usres\\DELL\\demo_file.txt','r')\u001b[0m\n\u001b[1;37m              ^\u001b[0m\n\u001b[1;31mSyntaxError\u001b[0m\u001b[1;31m:\u001b[0m (unicode error) 'unicodeescape' codec can't decode bytes in position 2-3: truncated \\UXXXXXXXX escape\n"
     ]
    }
   ],
   "source": [
    "#write a program to open file in read mode with path variable \n",
    "file=open('C:\\Usres\\DELL\\demo_file.txt','r')\n",
    "file=open('C:\\\\Users\\\\DELL\\\\demo_file.txt','r')\n",
    "print(file)"
   ]
  },
  {
   "cell_type": "code",
   "execution_count": null,
   "metadata": {},
   "outputs": [
    {
     "ename": "SyntaxError",
     "evalue": "(unicode error) 'unicodeescape' codec can't decode bytes in position 2-3: truncated \\uXXXX escape (1364136458.py, line 2)",
     "output_type": "error",
     "traceback": [
      "\u001b[1;36m  Cell \u001b[1;32mIn[6], line 2\u001b[1;36m\u001b[0m\n\u001b[1;33m    file=open('c:\\users\\DELL\\demo_file.txt','r')\u001b[0m\n\u001b[1;37m              ^\u001b[0m\n\u001b[1;31mSyntaxError\u001b[0m\u001b[1;31m:\u001b[0m (unicode error) 'unicodeescape' codec can't decode bytes in position 2-3: truncated \\uXXXX escape\n"
     ]
    }
   ],
   "source": [
    "#write a program to poen file in read mode with path variable \n",
    "file=open('c:\\users\\DELL\\demo_file.txt','r')\n",
    "file=open('c:\\\\users\\\\DELL\\\\demo_file.txt','r')\n",
    "for num_row in file:\n",
    "    print(num_row)"
   ]
  },
  {
   "cell_type": "code",
   "execution_count": null,
   "metadata": {},
   "outputs": [
    {
     "name": "stdout",
     "output_type": "stream",
     "text": [
      "c:\\Users\\Raitig sarkar\\OneDrive\\Desktop\\Coding\\python\n"
     ]
    }
   ],
   "source": [
    "import os \n",
    "print(os.getcwd())"
   ]
  },
  {
   "cell_type": "code",
   "execution_count": null,
   "metadata": {},
   "outputs": [
    {
     "ename": "FileNotFoundError",
     "evalue": "[Errno 2] No such file or directory: 'suchi'",
     "output_type": "error",
     "traceback": [
      "\u001b[1;31m---------------------------------------------------------------------------\u001b[0m",
      "\u001b[1;31mFileNotFoundError\u001b[0m                         Traceback (most recent call last)",
      "Cell \u001b[1;32mIn[8], line 1\u001b[0m\n\u001b[1;32m----> 1\u001b[0m file\u001b[38;5;241m=\u001b[39m\u001b[38;5;28;43mopen\u001b[39;49m\u001b[43m(\u001b[49m\u001b[38;5;124;43m'\u001b[39;49m\u001b[38;5;124;43msuchi\u001b[39;49m\u001b[38;5;124;43m'\u001b[39;49m\u001b[43m,\u001b[49m\u001b[38;5;124;43m'\u001b[39;49m\u001b[38;5;124;43mr\u001b[39;49m\u001b[38;5;124;43m'\u001b[39;49m\u001b[43m)\u001b[49m\n\u001b[0;32m      2\u001b[0m \u001b[38;5;28mprint\u001b[39m(file)\n",
      "File \u001b[1;32m~\\AppData\\Roaming\\Python\\Python312\\site-packages\\IPython\\core\\interactiveshell.py:324\u001b[0m, in \u001b[0;36m_modified_open\u001b[1;34m(file, *args, **kwargs)\u001b[0m\n\u001b[0;32m    317\u001b[0m \u001b[38;5;28;01mif\u001b[39;00m file \u001b[38;5;129;01min\u001b[39;00m {\u001b[38;5;241m0\u001b[39m, \u001b[38;5;241m1\u001b[39m, \u001b[38;5;241m2\u001b[39m}:\n\u001b[0;32m    318\u001b[0m     \u001b[38;5;28;01mraise\u001b[39;00m \u001b[38;5;167;01mValueError\u001b[39;00m(\n\u001b[0;32m    319\u001b[0m         \u001b[38;5;124mf\u001b[39m\u001b[38;5;124m\"\u001b[39m\u001b[38;5;124mIPython won\u001b[39m\u001b[38;5;124m'\u001b[39m\u001b[38;5;124mt let you open fd=\u001b[39m\u001b[38;5;132;01m{\u001b[39;00mfile\u001b[38;5;132;01m}\u001b[39;00m\u001b[38;5;124m by default \u001b[39m\u001b[38;5;124m\"\u001b[39m\n\u001b[0;32m    320\u001b[0m         \u001b[38;5;124m\"\u001b[39m\u001b[38;5;124mas it is likely to crash IPython. If you know what you are doing, \u001b[39m\u001b[38;5;124m\"\u001b[39m\n\u001b[0;32m    321\u001b[0m         \u001b[38;5;124m\"\u001b[39m\u001b[38;5;124myou can use builtins\u001b[39m\u001b[38;5;124m'\u001b[39m\u001b[38;5;124m open.\u001b[39m\u001b[38;5;124m\"\u001b[39m\n\u001b[0;32m    322\u001b[0m     )\n\u001b[1;32m--> 324\u001b[0m \u001b[38;5;28;01mreturn\u001b[39;00m \u001b[43mio_open\u001b[49m\u001b[43m(\u001b[49m\u001b[43mfile\u001b[49m\u001b[43m,\u001b[49m\u001b[43m \u001b[49m\u001b[38;5;241;43m*\u001b[39;49m\u001b[43margs\u001b[49m\u001b[43m,\u001b[49m\u001b[43m \u001b[49m\u001b[38;5;241;43m*\u001b[39;49m\u001b[38;5;241;43m*\u001b[39;49m\u001b[43mkwargs\u001b[49m\u001b[43m)\u001b[49m\n",
      "\u001b[1;31mFileNotFoundError\u001b[0m: [Errno 2] No such file or directory: 'suchi'"
     ]
    }
   ],
   "source": [
    "file=open('suchi','r')\n",
    "print(file)"
   ]
  },
  {
   "cell_type": "code",
   "execution_count": null,
   "metadata": {},
   "outputs": [
    {
     "ename": "FileNotFoundError",
     "evalue": "[Errno 2] No such file or directory: 'suchi'",
     "output_type": "error",
     "traceback": [
      "\u001b[1;31m---------------------------------------------------------------------------\u001b[0m",
      "\u001b[1;31mFileNotFoundError\u001b[0m                         Traceback (most recent call last)",
      "Cell \u001b[1;32mIn[9], line 1\u001b[0m\n\u001b[1;32m----> 1\u001b[0m file\u001b[38;5;241m=\u001b[39m\u001b[38;5;28;43mopen\u001b[39;49m\u001b[43m(\u001b[49m\u001b[38;5;124;43m\"\u001b[39;49m\u001b[38;5;124;43msuchi\u001b[39;49m\u001b[38;5;124;43m\"\u001b[39;49m\u001b[43m,\u001b[49m\u001b[38;5;124;43m\"\u001b[39;49m\u001b[38;5;124;43mr\u001b[39;49m\u001b[38;5;124;43m\"\u001b[39;49m\u001b[43m)\u001b[49m\n\u001b[0;32m      2\u001b[0m \u001b[38;5;28mprint\u001b[39m(file\u001b[38;5;241m.\u001b[39mread())\n\u001b[0;32m      3\u001b[0m file\u001b[38;5;241m.\u001b[39mclose()\n",
      "File \u001b[1;32m~\\AppData\\Roaming\\Python\\Python312\\site-packages\\IPython\\core\\interactiveshell.py:324\u001b[0m, in \u001b[0;36m_modified_open\u001b[1;34m(file, *args, **kwargs)\u001b[0m\n\u001b[0;32m    317\u001b[0m \u001b[38;5;28;01mif\u001b[39;00m file \u001b[38;5;129;01min\u001b[39;00m {\u001b[38;5;241m0\u001b[39m, \u001b[38;5;241m1\u001b[39m, \u001b[38;5;241m2\u001b[39m}:\n\u001b[0;32m    318\u001b[0m     \u001b[38;5;28;01mraise\u001b[39;00m \u001b[38;5;167;01mValueError\u001b[39;00m(\n\u001b[0;32m    319\u001b[0m         \u001b[38;5;124mf\u001b[39m\u001b[38;5;124m\"\u001b[39m\u001b[38;5;124mIPython won\u001b[39m\u001b[38;5;124m'\u001b[39m\u001b[38;5;124mt let you open fd=\u001b[39m\u001b[38;5;132;01m{\u001b[39;00mfile\u001b[38;5;132;01m}\u001b[39;00m\u001b[38;5;124m by default \u001b[39m\u001b[38;5;124m\"\u001b[39m\n\u001b[0;32m    320\u001b[0m         \u001b[38;5;124m\"\u001b[39m\u001b[38;5;124mas it is likely to crash IPython. If you know what you are doing, \u001b[39m\u001b[38;5;124m\"\u001b[39m\n\u001b[0;32m    321\u001b[0m         \u001b[38;5;124m\"\u001b[39m\u001b[38;5;124myou can use builtins\u001b[39m\u001b[38;5;124m'\u001b[39m\u001b[38;5;124m open.\u001b[39m\u001b[38;5;124m\"\u001b[39m\n\u001b[0;32m    322\u001b[0m     )\n\u001b[1;32m--> 324\u001b[0m \u001b[38;5;28;01mreturn\u001b[39;00m \u001b[43mio_open\u001b[49m\u001b[43m(\u001b[49m\u001b[43mfile\u001b[49m\u001b[43m,\u001b[49m\u001b[43m \u001b[49m\u001b[38;5;241;43m*\u001b[39;49m\u001b[43margs\u001b[49m\u001b[43m,\u001b[49m\u001b[43m \u001b[49m\u001b[38;5;241;43m*\u001b[39;49m\u001b[38;5;241;43m*\u001b[39;49m\u001b[43mkwargs\u001b[49m\u001b[43m)\u001b[49m\n",
      "\u001b[1;31mFileNotFoundError\u001b[0m: [Errno 2] No such file or directory: 'suchi'"
     ]
    }
   ],
   "source": [
    "file=open(\"suchi\",\"r\")\n",
    "print(file.read())\n",
    "file.close()"
   ]
  },
  {
   "cell_type": "code",
   "execution_count": null,
   "metadata": {},
   "outputs": [
    {
     "name": "stdout",
     "output_type": "stream",
     "text": [
      "c:\\Users\\Raitig sarkar\\OneDrive\\Desktop\\Coding\\python\n"
     ]
    }
   ],
   "source": [
    "import os \n",
    "print(os.getcwd())"
   ]
  },
  {
   "cell_type": "code",
   "execution_count": null,
   "metadata": {},
   "outputs": [],
   "source": [
    "f=open('myfile.txt','w')\n",
    "str=input('Enter text: ')\n",
    "f.write(str)\n",
    "f.close()"
   ]
  },
  {
   "cell_type": "code",
   "execution_count": null,
   "metadata": {},
   "outputs": [
    {
     "ename": "FileNotFoundError",
     "evalue": "[Errno 2] No such file or directory: 'file.dat'",
     "output_type": "error",
     "traceback": [
      "\u001b[1;31m---------------------------------------------------------------------------\u001b[0m",
      "\u001b[1;31mFileNotFoundError\u001b[0m                         Traceback (most recent call last)",
      "Cell \u001b[1;32mIn[12], line 2\u001b[0m\n\u001b[0;32m      1\u001b[0m \u001b[38;5;28;01mimport\u001b[39;00m \u001b[38;5;21;01mpickle\u001b[39;00m \n\u001b[1;32m----> 2\u001b[0m \u001b[38;5;28;01mwith\u001b[39;00m \u001b[38;5;28;43mopen\u001b[39;49m\u001b[43m(\u001b[49m\u001b[38;5;124;43m\"\u001b[39;49m\u001b[38;5;124;43mfile.dat\u001b[39;49m\u001b[38;5;124;43m\"\u001b[39;49m\u001b[43m,\u001b[49m\u001b[38;5;124;43m'\u001b[39;49m\u001b[38;5;124;43mrb\u001b[39;49m\u001b[38;5;124;43m'\u001b[39;49m\u001b[43m)\u001b[49m\u001b[38;5;28;01mas\u001b[39;00m f:\n\u001b[0;32m      3\u001b[0m     \u001b[38;5;28;01mwhile\u001b[39;00m \u001b[38;5;28;01mTrue\u001b[39;00m :\n\u001b[0;32m      4\u001b[0m         \u001b[38;5;28;01mtry\u001b[39;00m :\n",
      "File \u001b[1;32m~\\AppData\\Roaming\\Python\\Python312\\site-packages\\IPython\\core\\interactiveshell.py:324\u001b[0m, in \u001b[0;36m_modified_open\u001b[1;34m(file, *args, **kwargs)\u001b[0m\n\u001b[0;32m    317\u001b[0m \u001b[38;5;28;01mif\u001b[39;00m file \u001b[38;5;129;01min\u001b[39;00m {\u001b[38;5;241m0\u001b[39m, \u001b[38;5;241m1\u001b[39m, \u001b[38;5;241m2\u001b[39m}:\n\u001b[0;32m    318\u001b[0m     \u001b[38;5;28;01mraise\u001b[39;00m \u001b[38;5;167;01mValueError\u001b[39;00m(\n\u001b[0;32m    319\u001b[0m         \u001b[38;5;124mf\u001b[39m\u001b[38;5;124m\"\u001b[39m\u001b[38;5;124mIPython won\u001b[39m\u001b[38;5;124m'\u001b[39m\u001b[38;5;124mt let you open fd=\u001b[39m\u001b[38;5;132;01m{\u001b[39;00mfile\u001b[38;5;132;01m}\u001b[39;00m\u001b[38;5;124m by default \u001b[39m\u001b[38;5;124m\"\u001b[39m\n\u001b[0;32m    320\u001b[0m         \u001b[38;5;124m\"\u001b[39m\u001b[38;5;124mas it is likely to crash IPython. If you know what you are doing, \u001b[39m\u001b[38;5;124m\"\u001b[39m\n\u001b[0;32m    321\u001b[0m         \u001b[38;5;124m\"\u001b[39m\u001b[38;5;124myou can use builtins\u001b[39m\u001b[38;5;124m'\u001b[39m\u001b[38;5;124m open.\u001b[39m\u001b[38;5;124m\"\u001b[39m\n\u001b[0;32m    322\u001b[0m     )\n\u001b[1;32m--> 324\u001b[0m \u001b[38;5;28;01mreturn\u001b[39;00m \u001b[43mio_open\u001b[49m\u001b[43m(\u001b[49m\u001b[43mfile\u001b[49m\u001b[43m,\u001b[49m\u001b[43m \u001b[49m\u001b[38;5;241;43m*\u001b[39;49m\u001b[43margs\u001b[49m\u001b[43m,\u001b[49m\u001b[43m \u001b[49m\u001b[38;5;241;43m*\u001b[39;49m\u001b[38;5;241;43m*\u001b[39;49m\u001b[43mkwargs\u001b[49m\u001b[43m)\u001b[49m\n",
      "\u001b[1;31mFileNotFoundError\u001b[0m: [Errno 2] No such file or directory: 'file.dat'"
     ]
    }
   ],
   "source": [
    "import pickle \n",
    "with open(\"file.dat\",'rb')as f:\n",
    "    while True :\n",
    "        try :\n",
    "            row=pickle.load(f)\n",
    "            print(row)\n",
    "        except EOFError:\n",
    "            break"
   ]
  },
  {
   "cell_type": "code",
   "execution_count": null,
   "metadata": {},
   "outputs": [
    {
     "name": "stdout",
     "output_type": "stream",
     "text": [
      "Enter text to append (@ at end ): \n",
      "The file contents are :\n",
      "Raitigjfegherhgb@\n",
      "Raitig sar@\n",
      "0\n",
      "rgr0\n",
      "\n"
     ]
    }
   ],
   "source": [
    "f=open('myfile.txt','a+')\n",
    "print('Enter text to append (@ at end ): ')\n",
    "while str!='@':\n",
    "    str=input()\n",
    "    if(str!='@'):\n",
    "        f.write(str+\"\\n\")\n",
    "f.seek(0,0)\n",
    "print(\"The file contents are :\")\n",
    "str=f.read()\n",
    "print(str)\n",
    "f.close()    "
   ]
  },
  {
   "cell_type": "code",
   "execution_count": null,
   "metadata": {},
   "outputs": [
    {
     "name": "stdout",
     "output_type": "stream",
     "text": [
      "Raisha.txtdoes not exist\n"
     ]
    },
    {
     "ename": "SystemExit",
     "evalue": "",
     "output_type": "error",
     "traceback": [
      "An exception has occurred, use %tb to see the full traceback.\n",
      "\u001b[1;31mSystemExit\u001b[0m\n"
     ]
    }
   ],
   "source": [
    "#write a program to check whether it exist or not .\n",
    "import os,sys\n",
    "fname=input('Enter filename : ')\n",
    "if os.path.isfile(fname):\n",
    "    f=open(fname,'r')\n",
    "else:\n",
    "    print(fname+'does not exist')\n",
    "    sys.exit()\n",
    "print('The file content are:')\n",
    "str=f.read()\n",
    "print(str)\n",
    "f.close()"
   ]
  },
  {
   "cell_type": "code",
   "execution_count": null,
   "metadata": {},
   "outputs": [
    {
     "ename": "NameError",
     "evalue": "name 'od' is not defined",
     "output_type": "error",
     "traceback": [
      "\u001b[1;31m---------------------------------------------------------------------------\u001b[0m",
      "\u001b[1;31mNameError\u001b[0m                                 Traceback (most recent call last)",
      "Cell \u001b[1;32mIn[18], line 3\u001b[0m\n\u001b[0;32m      1\u001b[0m \u001b[38;5;28;01mimport\u001b[39;00m \u001b[38;5;21;01mos\u001b[39;00m\u001b[38;5;241m,\u001b[39m\u001b[38;5;21;01msys\u001b[39;00m\n\u001b[0;32m      2\u001b[0m fname\u001b[38;5;241m=\u001b[39m\u001b[38;5;28minput\u001b[39m(\u001b[38;5;124m'\u001b[39m\u001b[38;5;124mEnter file name : \u001b[39m\u001b[38;5;124m'\u001b[39m)\n\u001b[1;32m----> 3\u001b[0m \u001b[38;5;28;01mif\u001b[39;00m \u001b[43mod\u001b[49m\u001b[38;5;241m.\u001b[39mpath\u001b[38;5;241m.\u001b[39misfile(fname):\n\u001b[0;32m      4\u001b[0m     f\u001b[38;5;241m=\u001b[39m\u001b[38;5;28mopen\u001b[39m(fname,\u001b[38;5;124m'\u001b[39m\u001b[38;5;124mr\u001b[39m\u001b[38;5;124m'\u001b[39m)\n\u001b[0;32m      5\u001b[0m \u001b[38;5;28;01melse\u001b[39;00m:\n",
      "\u001b[1;31mNameError\u001b[0m: name 'od' is not defined"
     ]
    }
   ],
   "source": [
    "import os,sys\n",
    "fname=input('Enter file name : ')\n",
    "if od.path.isfile(fname):\n",
    "    f=open(fname,'r')\n",
    "else:\n",
    "    print(fname+'does not exist')\n",
    "    sys.exit()\n",
    "line=word=character=0\n",
    "for l in f:\n",
    "    words=l.split()\n",
    "    line+=1\n",
    "    word+=len(words)\n",
    "    character+=len(l)\n",
    "print('No of lines : ',line)\n",
    "print('No of words : ',word)\n",
    "print('No of character : ',character)\n",
    "f.close()"
   ]
  },
  {
   "cell_type": "code",
   "execution_count": null,
   "metadata": {},
   "outputs": [],
   "source": [
    "# Write a program to write in the binary file .\n",
    "import pickle\n",
    "with open(\"file.dat\",\"wb\") as f:\n",
    "    while True:\n",
    "        op=int(input(\"Enter 1 to add data,0 to quit\"))\n",
    "        if(op==1):\n",
    "            name=input(\"Enter name :\")\n",
    "            rollno=int(input(\"roll no: \"))\n",
    "            pickle.dump((name,rollno),f)\n",
    "        elif op==0:\n",
    "            break"
   ]
  },
  {
   "cell_type": "code",
   "execution_count": null,
   "metadata": {},
   "outputs": [
    {
     "name": "stdout",
     "output_type": "stream",
     "text": [
      "('Raitig', 659)\n"
     ]
    }
   ],
   "source": [
    "import pickle\n",
    "with open('file.dat','rb') as f:\n",
    "    while True :\n",
    "        try:\n",
    "            row=pickle.load(f)\n",
    "            print(row)\n",
    "        except EOFError:\n",
    "            break"
   ]
  },
  {
   "cell_type": "code",
   "execution_count": null,
   "metadata": {},
   "outputs": [
    {
     "ename": "ValueError",
     "evalue": "invalid literal for int() with base 10: 'BWU/BCA/23/659'",
     "output_type": "error",
     "traceback": [
      "\u001b[1;31m---------------------------------------------------------------------------\u001b[0m",
      "\u001b[1;31mValueError\u001b[0m                                Traceback (most recent call last)",
      "Cell \u001b[1;32mIn[23], line 7\u001b[0m\n\u001b[0;32m      5\u001b[0m \u001b[38;5;28;01mif\u001b[39;00m(op\u001b[38;5;241m==\u001b[39m\u001b[38;5;241m1\u001b[39m):\n\u001b[0;32m      6\u001b[0m     emp_name\u001b[38;5;241m=\u001b[39m\u001b[38;5;28minput\u001b[39m(\u001b[38;5;124m\"\u001b[39m\u001b[38;5;124mEmployee name :\u001b[39m\u001b[38;5;124m\"\u001b[39m)\n\u001b[1;32m----> 7\u001b[0m     emp_code\u001b[38;5;241m=\u001b[39m\u001b[38;5;28;43mint\u001b[39;49m\u001b[43m(\u001b[49m\u001b[38;5;28;43minput\u001b[39;49m\u001b[43m(\u001b[49m\u001b[38;5;124;43m\"\u001b[39;49m\u001b[38;5;124;43mEmployee code :\u001b[39;49m\u001b[38;5;124;43m\"\u001b[39;49m\u001b[43m)\u001b[49m\u001b[43m)\u001b[49m\n\u001b[0;32m      8\u001b[0m     salary\u001b[38;5;241m=\u001b[39m\u001b[38;5;28mint\u001b[39m(\u001b[38;5;28minput\u001b[39m(\u001b[38;5;124m\"\u001b[39m\u001b[38;5;124msalary :\u001b[39m\u001b[38;5;124m\"\u001b[39m))\n\u001b[0;32m      9\u001b[0m     pickle\u001b[38;5;241m.\u001b[39mdump([emp_name,emp_code,salary],f)\n",
      "\u001b[1;31mValueError\u001b[0m: invalid literal for int() with base 10: 'BWU/BCA/23/659'"
     ]
    }
   ],
   "source": [
    "import pickle\n",
    "with open (\"Emp.dat\",'wb') as f:\n",
    "    while True:\n",
    "        op=int(input(\"Enter 1 to add data,0 to quit\"))\n",
    "        if(op==1):\n",
    "            emp_name=input(\"Employee name :\")\n",
    "            emp_code=int(input(\"Employee code :\"))\n",
    "            salary=int(input(\"salary :\"))\n",
    "            pickle.dump([emp_name,emp_code,salary],f)\n",
    "        elif op==0:\n",
    "            break"
   ]
  },
  {
   "cell_type": "code",
   "execution_count": null,
   "metadata": {},
   "outputs": [],
   "source": [
    "import pickle\n",
    "with open(\"Emp.dat\",'rb+') as f:\n",
    "    while True :\n",
    "        try:\n",
    "            row=pickle.load(f)\n",
    "            print(row)\n",
    "        except EOFError:\n",
    "            break"
   ]
  },
  {
   "cell_type": "code",
   "execution_count": null,
   "metadata": {},
   "outputs": [],
   "source": [
    "import pickle\n",
    "with open(\"Emp.dat\",'rb+')as f:\n",
    "    while True:\n",
    "        try:\n",
    "            record_pointer=f.tell()\n",
    "            row=pickle.load(f)\n",
    "            if(row[0]=='Lionel Messi'):\n",
    "                row[1]=100\n",
    "                f.seek(record_pointer,0)\n",
    "                pickle.dump(row,f)\n",
    "        except EOFError:\n",
    "            break"
   ]
  },
  {
   "cell_type": "code",
   "execution_count": null,
   "metadata": {},
   "outputs": [
    {
     "name": "stdout",
     "output_type": "stream",
     "text": [
      "abcdef\n"
     ]
    }
   ],
   "source": [
    "str1=\"abcdef\"\n",
    "print(str1)"
   ]
  },
  {
   "cell_type": "code",
   "execution_count": null,
   "metadata": {},
   "outputs": [
    {
     "name": "stdout",
     "output_type": "stream",
     "text": [
      "helloworld\n"
     ]
    }
   ],
   "source": [
    "str1='hello'\n",
    "str2='world'\n",
    "str3= str1+str2\n",
    "print(str3)"
   ]
  },
  {
   "cell_type": "code",
   "execution_count": null,
   "metadata": {},
   "outputs": [
    {
     "name": "stdout",
     "output_type": "stream",
     "text": [
      "[1 2 3 4]\n"
     ]
    }
   ],
   "source": [
    "import numpy as np\n",
    "x=np.array([1,2,3,4])\n",
    "print(x)"
   ]
  },
  {
   "cell_type": "code",
   "execution_count": null,
   "metadata": {},
   "outputs": [
    {
     "name": "stdout",
     "output_type": "stream",
     "text": [
      "['apple', 'banana', 'Gouava']\n"
     ]
    }
   ],
   "source": [
    "fruit=['apple','banana','Gouava']\n",
    "print(fruit)"
   ]
  },
  {
   "cell_type": "code",
   "execution_count": null,
   "metadata": {},
   "outputs": [],
   "source": [
    "What is panda ?\n",
    "= Panda is a python module that makes data analysis more easy and effective .\n",
    "Data Analytics - is a process of analyzing large set of datas to get answers on question related to that data .\n"
   ]
  },
  {
   "cell_type": "code",
   "execution_count": 2,
   "metadata": {},
   "outputs": [
    {
     "ename": "ModuleNotFoundError",
     "evalue": "No module named 'pandas'",
     "output_type": "error",
     "traceback": [
      "\u001b[1;31m---------------------------------------------------------------------------\u001b[0m",
      "\u001b[1;31mModuleNotFoundError\u001b[0m                       Traceback (most recent call last)",
      "Cell \u001b[1;32mIn[2], line 1\u001b[0m\n\u001b[1;32m----> 1\u001b[0m \u001b[38;5;28;01mimport\u001b[39;00m \u001b[38;5;21;01mpandas\u001b[39;00m \u001b[38;5;28;01mas\u001b[39;00m \u001b[38;5;21;01mpd\u001b[39;00m\n\u001b[0;32m      2\u001b[0m data \u001b[38;5;241m=\u001b[39m {\n\u001b[0;32m      3\u001b[0m      \u001b[38;5;124m\"\u001b[39m\u001b[38;5;124mcars\u001b[39m\u001b[38;5;124m\"\u001b[39m : [\u001b[38;5;124m\"\u001b[39m\u001b[38;5;124mBMW\u001b[39m\u001b[38;5;124m\"\u001b[39m ,\u001b[38;5;124m\"\u001b[39m\u001b[38;5;124mMaruti\u001b[39m\u001b[38;5;124m\"\u001b[39m ,\u001b[38;5;124m\"\u001b[39m\u001b[38;5;124mTVS\u001b[39m\u001b[38;5;124m\"\u001b[39m ],\n\u001b[0;32m      4\u001b[0m \n\u001b[0;32m      5\u001b[0m       \u001b[38;5;124m\"\u001b[39m\u001b[38;5;124mmilage\u001b[39m\u001b[38;5;124m\"\u001b[39m : [\u001b[38;5;241m120\u001b[39m ,\u001b[38;5;241m200\u001b[39m,\u001b[38;5;241m300\u001b[39m]\n\u001b[0;32m      6\u001b[0m         \n\u001b[0;32m      7\u001b[0m }\n\u001b[0;32m      8\u001b[0m df \u001b[38;5;241m=\u001b[39m pd\u001b[38;5;241m.\u001b[39mDataFrame(data)\n",
      "\u001b[1;31mModuleNotFoundError\u001b[0m: No module named 'pandas'"
     ]
    }
   ],
   "source": [
    "import pandas as pd\n",
    "data = {\n",
    "     \"cars\" : [\"BMW\" ,\"Maruti\" ,\"TVS\" ],\n",
    "\n",
    "      \"milage\" : [120 ,200,300]\n",
    "        \n",
    "}\n",
    "df = pd.DataFrame(data)\n",
    "print(df)"
   ]
  }
 ],
 "metadata": {
  "kernelspec": {
   "display_name": "Python 3",
   "language": "python",
   "name": "python3"
  },
  "language_info": {
   "codemirror_mode": {
    "name": "ipython",
    "version": 3
   },
   "file_extension": ".py",
   "mimetype": "text/x-python",
   "name": "python",
   "nbconvert_exporter": "python",
   "pygments_lexer": "ipython3",
   "version": "3.12.2"
  }
 },
 "nbformat": 4,
 "nbformat_minor": 2
}
